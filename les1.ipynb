{
  "nbformat": 4,
  "nbformat_minor": 0,
  "metadata": {
    "colab": {
      "name": "Untitled10.ipynb",
      "provenance": [],
      "collapsed_sections": []
    },
    "kernelspec": {
      "name": "python3",
      "display_name": "Python 3"
    },
    "language_info": {
      "name": "python"
    }
  },
  "cells": [
    {
      "cell_type": "code",
      "metadata": {
        "id": "i3bYmnJdsxe5"
      },
      "source": [
        "import math\n",
        "import numpy as np"
      ],
      "execution_count": 1,
      "outputs": []
    },
    {
      "cell_type": "markdown",
      "metadata": {
        "id": "xnP0ITjfmWm6"
      },
      "source": [
        "### Урок 1. Случайные события. Условная вероятность. Формула Байеса. Независимые испытания"
      ]
    },
    {
      "cell_type": "markdown",
      "metadata": {
        "id": "hqkliC2Emd3J"
      },
      "source": [
        "#### Задание №1\n",
        "Из колоды в 52 карты извлекаются случайным образом 4 карты. a) Найти вероятность того, что все карты – крести. б) Найти вероятность, что среди 4-х карт окажется хотя бы один туз."
      ]
    },
    {
      "cell_type": "markdown",
      "metadata": {
        "id": "jOoL8zY-sitT"
      },
      "source": [
        "#### Часть а\n",
        "Найдем все возможные сочетания 4 карт одной масти, затем поделим на число всех возможных сочетаний из четерёх карт"
      ]
    },
    {
      "cell_type": "code",
      "metadata": {
        "id": "x7hMynwmmS8u"
      },
      "source": [
        "# Напишим функуцию для определения числа комбинаций\n",
        "def combinations(n, k):\n",
        "    return int(math.factorial(n) / (math.factorial(k) * math.factorial(n - k)))"
      ],
      "execution_count": 2,
      "outputs": []
    },
    {
      "cell_type": "code",
      "metadata": {
        "colab": {
          "base_uri": "https://localhost:8080/"
        },
        "id": "xHCYT7OuwlbJ",
        "outputId": "57dce2b0-96a2-4179-af80-44b97a431265"
      },
      "source": [
        "# Число сочетаний карт из четырех крестей\n",
        "clubs = combinations(13, 4)\n",
        "clubs"
      ],
      "execution_count": 3,
      "outputs": [
        {
          "output_type": "execute_result",
          "data": {
            "text/plain": [
              "715"
            ]
          },
          "metadata": {
            "tags": []
          },
          "execution_count": 3
        }
      ]
    },
    {
      "cell_type": "code",
      "metadata": {
        "colab": {
          "base_uri": "https://localhost:8080/"
        },
        "id": "dotlHy7Nw94E",
        "outputId": "dc6fe518-8429-4797-a1de-ce68f986ac3a"
      },
      "source": [
        "# Число всех сочетаний из четырех карт\n",
        "cards = combinations(52, 4)\n",
        "cards"
      ],
      "execution_count": 4,
      "outputs": [
        {
          "output_type": "execute_result",
          "data": {
            "text/plain": [
              "270725"
            ]
          },
          "metadata": {
            "tags": []
          },
          "execution_count": 4
        }
      ]
    },
    {
      "cell_type": "code",
      "metadata": {
        "colab": {
          "base_uri": "https://localhost:8080/"
        },
        "id": "cf58LZ8Axsov",
        "outputId": "a45a63f4-2910-4e49-99b3-8a7bf386cd99"
      },
      "source": [
        "# Вероятность вытащить четыре крести\n",
        "prob_clubs = clubs/cards\n",
        "prob_clubs"
      ],
      "execution_count": 5,
      "outputs": [
        {
          "output_type": "execute_result",
          "data": {
            "text/plain": [
              "0.0026410564225690276"
            ]
          },
          "metadata": {
            "tags": []
          },
          "execution_count": 5
        }
      ]
    },
    {
      "cell_type": "markdown",
      "metadata": {
        "id": "L6eB7IAcyI-Q"
      },
      "source": [
        "#### Часть б\n",
        "Найдем все возможные комбинации из карт чтобы присутствовас хотя бы один туз"
      ]
    },
    {
      "cell_type": "code",
      "metadata": {
        "id": "uIBzos7qyD2k"
      },
      "source": [
        "# Количесво комбенаций с четыремя тузами будет единственым\n",
        "four_aces = 1"
      ],
      "execution_count": 6,
      "outputs": []
    },
    {
      "cell_type": "code",
      "metadata": {
        "colab": {
          "base_uri": "https://localhost:8080/"
        },
        "id": "7Bxsad720V8V",
        "outputId": "555ddf9a-b341-4c1b-8be1-773122d8882b"
      },
      "source": [
        "# Количесво комбенаций с тремя тузами \n",
        "three_aces = combinations(4, 3) * combinations(48, 1)\n",
        "three_aces"
      ],
      "execution_count": 7,
      "outputs": [
        {
          "output_type": "execute_result",
          "data": {
            "text/plain": [
              "192"
            ]
          },
          "metadata": {
            "tags": []
          },
          "execution_count": 7
        }
      ]
    },
    {
      "cell_type": "code",
      "metadata": {
        "colab": {
          "base_uri": "https://localhost:8080/"
        },
        "id": "_Vis7gpl1I2d",
        "outputId": "72049402-d168-47a1-ed3d-c3ad4079d319"
      },
      "source": [
        "# Количесво комбенаций с двумя тузами \n",
        "two_aces = combinations(4, 2) * combinations(48, 2)\n",
        "two_aces"
      ],
      "execution_count": 8,
      "outputs": [
        {
          "output_type": "execute_result",
          "data": {
            "text/plain": [
              "6768"
            ]
          },
          "metadata": {
            "tags": []
          },
          "execution_count": 8
        }
      ]
    },
    {
      "cell_type": "code",
      "metadata": {
        "colab": {
          "base_uri": "https://localhost:8080/"
        },
        "id": "Qda10Elm1c0B",
        "outputId": "fb69e07b-c06e-44b8-8d3f-fd2e2b6c0638"
      },
      "source": [
        "# Количесво комбенаций с одним тузами \n",
        "one_aces = combinations(4, 1) * combinations(48, 3)\n",
        "one_aces"
      ],
      "execution_count": 9,
      "outputs": [
        {
          "output_type": "execute_result",
          "data": {
            "text/plain": [
              "69184"
            ]
          },
          "metadata": {
            "tags": []
          },
          "execution_count": 9
        }
      ]
    },
    {
      "cell_type": "code",
      "metadata": {
        "colab": {
          "base_uri": "https://localhost:8080/"
        },
        "id": "VqlAC_8C1hmZ",
        "outputId": "eed3aec1-482a-469d-961a-c7b57d21f705"
      },
      "source": [
        "# Общее количесво комбенаций с тузами \n",
        "aces = four_aces + three_aces + two_aces + one_aces\n",
        "aces"
      ],
      "execution_count": 10,
      "outputs": [
        {
          "output_type": "execute_result",
          "data": {
            "text/plain": [
              "76145"
            ]
          },
          "metadata": {
            "tags": []
          },
          "execution_count": 10
        }
      ]
    },
    {
      "cell_type": "code",
      "metadata": {
        "colab": {
          "base_uri": "https://localhost:8080/"
        },
        "id": "WE6dY1Ky17Z7",
        "outputId": "db6dc481-6582-42e7-f9a6-940f185c2256"
      },
      "source": [
        "# Вероятность вытащить хотябы один туз\n",
        "prob_aces = aces/cards\n",
        "prob_aces"
      ],
      "execution_count": 11,
      "outputs": [
        {
          "output_type": "execute_result",
          "data": {
            "text/plain": [
              "0.2812632745405855"
            ]
          },
          "metadata": {
            "tags": []
          },
          "execution_count": 11
        }
      ]
    },
    {
      "cell_type": "markdown",
      "metadata": {
        "id": "EvvkGPU52W7Z"
      },
      "source": [
        "#### Задание 2\n",
        "На входной двери подъезда установлен кодовый замок, содержащий десять кнопок с цифрами от 0 до 9. Код содержит три цифры, которые нужно нажать одновременно. Какова вероятность того, что человек, не знающий код, откроет дверь с первой попытки?"
      ]
    },
    {
      "cell_type": "code",
      "metadata": {
        "colab": {
          "base_uri": "https://localhost:8080/"
        },
        "id": "fegOHgJJ2Gcd",
        "outputId": "d52a47bf-a40e-4ac7-d81d-4892ebfba9d3"
      },
      "source": [
        "# Определим количество всех возможных комбинаций из трех чисел\n",
        "digitals = combinations(10, 3)\n",
        "digitals"
      ],
      "execution_count": 12,
      "outputs": [
        {
          "output_type": "execute_result",
          "data": {
            "text/plain": [
              "120"
            ]
          },
          "metadata": {
            "tags": []
          },
          "execution_count": 12
        }
      ]
    },
    {
      "cell_type": "code",
      "metadata": {
        "colab": {
          "base_uri": "https://localhost:8080/"
        },
        "id": "R7PnYPjC3V7P",
        "outputId": "b23706c0-1b66-4276-e204-3f85272a8247"
      },
      "source": [
        "# Тогда вероятность будет\n",
        "prob_dig = 1/digitals\n",
        "prob_dig"
      ],
      "execution_count": 15,
      "outputs": [
        {
          "output_type": "execute_result",
          "data": {
            "text/plain": [
              "0.008333333333333333"
            ]
          },
          "metadata": {
            "tags": []
          },
          "execution_count": 15
        }
      ]
    },
    {
      "cell_type": "markdown",
      "metadata": {
        "id": "kMAssaG03z_G"
      },
      "source": [
        "### Задание 3\n",
        "В ящике имеется 15 деталей, из которых 9 окрашены. Рабочий случайным образом извлекает 3 детали. Какова вероятность того, что все извлеченные детали окрашены?"
      ]
    },
    {
      "cell_type": "code",
      "metadata": {
        "colab": {
          "base_uri": "https://localhost:8080/"
        },
        "id": "w9An0CjL3knF",
        "outputId": "0ecee08b-4996-4a9e-a82d-6aeb7d4c2946"
      },
      "source": [
        "# Определим количество комбинаций для 3 окрашенных деталий\n",
        "color_things = combinations(9, 3)\n",
        "color_things"
      ],
      "execution_count": 16,
      "outputs": [
        {
          "output_type": "execute_result",
          "data": {
            "text/plain": [
              "84"
            ]
          },
          "metadata": {
            "tags": []
          },
          "execution_count": 16
        }
      ]
    },
    {
      "cell_type": "code",
      "metadata": {
        "colab": {
          "base_uri": "https://localhost:8080/"
        },
        "id": "CXbDkDBY4bNn",
        "outputId": "a92981f9-43c6-4293-f892-6bdf44464dc7"
      },
      "source": [
        "# Определим общее  количество комбинаций для 3 деталий\n",
        "things = combinations(15, 3)\n",
        "things"
      ],
      "execution_count": 18,
      "outputs": [
        {
          "output_type": "execute_result",
          "data": {
            "text/plain": [
              "455"
            ]
          },
          "metadata": {
            "tags": []
          },
          "execution_count": 18
        }
      ]
    },
    {
      "cell_type": "code",
      "metadata": {
        "colab": {
          "base_uri": "https://localhost:8080/"
        },
        "id": "h7YRZY_94tpZ",
        "outputId": "7f8b2f89-114d-4b68-b866-33f069d31a24"
      },
      "source": [
        "# Вероятность вытащить 3 окрашенные детали будет\n",
        "prob_things = color_things/things \n",
        "prob_things"
      ],
      "execution_count": 20,
      "outputs": [
        {
          "output_type": "execute_result",
          "data": {
            "text/plain": [
              "0.18461538461538463"
            ]
          },
          "metadata": {
            "tags": []
          },
          "execution_count": 20
        }
      ]
    },
    {
      "cell_type": "markdown",
      "metadata": {
        "id": "_RixeTAA5I7S"
      },
      "source": [
        "### Задание 4\n",
        "В лотерее 100 билетов. Из них 2 выигрышных. Какова вероятность того, что 2 приобретенных билета окажутся выигрышными"
      ]
    },
    {
      "cell_type": "code",
      "metadata": {
        "id": "YHpDgCec5DHf"
      },
      "source": [
        "# Количество комбинаций с выиграшными билетами только одна\n",
        "prized_tickets = 1"
      ],
      "execution_count": 21,
      "outputs": []
    },
    {
      "cell_type": "code",
      "metadata": {
        "colab": {
          "base_uri": "https://localhost:8080/"
        },
        "id": "L68kPEfp5pxN",
        "outputId": "4acbfd64-ccc4-4cdb-dc62-82ee5f311cb4"
      },
      "source": [
        "# Общие число комбинаций из двух билетов\n",
        "tickets = combinations(100, 2)\n",
        "tickets"
      ],
      "execution_count": 23,
      "outputs": [
        {
          "output_type": "execute_result",
          "data": {
            "text/plain": [
              "4950"
            ]
          },
          "metadata": {
            "tags": []
          },
          "execution_count": 23
        }
      ]
    },
    {
      "cell_type": "code",
      "metadata": {
        "colab": {
          "base_uri": "https://localhost:8080/"
        },
        "id": "0rdCI4mz51Fy",
        "outputId": "5ad1cbe1-b22a-4961-8519-956bffcf540e"
      },
      "source": [
        "# Вероятность иметь два выиграшных билета\n",
        "prob_tickets = prized_tickets / tickets\n",
        "prob_tickets"
      ],
      "execution_count": 25,
      "outputs": [
        {
          "output_type": "execute_result",
          "data": {
            "text/plain": [
              "0.00020202020202020202"
            ]
          },
          "metadata": {
            "tags": []
          },
          "execution_count": 25
        }
      ]
    },
    {
      "cell_type": "code",
      "metadata": {
        "id": "0jL1UTcJ6Jpq"
      },
      "source": [
        ""
      ],
      "execution_count": null,
      "outputs": []
    }
  ]
}