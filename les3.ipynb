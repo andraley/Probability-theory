{
  "nbformat": 4,
  "nbformat_minor": 0,
  "metadata": {
    "colab": {
      "name": "Untitled12.ipynb",
      "provenance": [],
      "collapsed_sections": [],
      "toc_visible": true
    },
    "kernelspec": {
      "name": "python3",
      "display_name": "Python 3"
    },
    "language_info": {
      "name": "python"
    }
  },
  "cells": [
    {
      "cell_type": "code",
      "metadata": {
        "id": "9yG069QEFKm-"
      },
      "source": [
        "import math"
      ],
      "execution_count": 1,
      "outputs": []
    },
    {
      "cell_type": "markdown",
      "metadata": {
        "id": "U9W8cJqM5K87"
      },
      "source": [
        "### Урок 3. Описательная статистика. Качественные и количественные характеристики популяции. Графическое представление данных"
      ]
    },
    {
      "cell_type": "markdown",
      "metadata": {
        "id": "zuRhsJWz4q_s"
      },
      "source": [
        "#### Задание №1\n",
        "Даны значения зарплат из выборки выпускников: 100, 80, 75, 77, 89, 33, 45, 25, 65, 17, 30, 24, 57, 55, 70, 75, 65, 84, 90, 150. Посчитать (желательно без использования статистических методов наподобие std, var, mean) среднее арифметическое, среднее квадратичное отклонение, смещенную и несмещенную оценки дисперсий для данной выборки."
      ]
    },
    {
      "cell_type": "code",
      "metadata": {
        "colab": {
          "base_uri": "https://localhost:8080/"
        },
        "id": "qwqUltBC5Y4D",
        "outputId": "376377be-2e49-4d34-c6f4-056dfa835850"
      },
      "source": [
        "salaries = [100, 80, 75, 77, 89, 33, 45, 25, 65, 17, 30, 24, 57, 55, 70, 75, 65, 84, 90, 150]\n",
        "\n",
        "# Найдём среднее арифметическое\n",
        "mean_sal = sum(salaries) / len(salaries)\n",
        "mean_sal"
      ],
      "execution_count": 2,
      "outputs": [
        {
          "output_type": "execute_result",
          "data": {
            "text/plain": [
              "65.3"
            ]
          },
          "metadata": {
            "tags": []
          },
          "execution_count": 2
        }
      ]
    },
    {
      "cell_type": "code",
      "metadata": {
        "colab": {
          "base_uri": "https://localhost:8080/"
        },
        "id": "HsVWZWDX8d06",
        "outputId": "6be9ae65-6b73-4a66-ee81-c11a32145ee2"
      },
      "source": [
        "# Cреднее квадратичное отклонение\n",
        "dif = 0\n",
        "for i in salaries:\n",
        "  dif += (i - mean_sal)**2\n",
        "std_sal = (dif / len(salaries))**0.5\n",
        "std_sal"
      ],
      "execution_count": 3,
      "outputs": [
        {
          "output_type": "execute_result",
          "data": {
            "text/plain": [
              "30.823854398825596"
            ]
          },
          "metadata": {
            "tags": []
          },
          "execution_count": 3
        }
      ]
    },
    {
      "cell_type": "code",
      "metadata": {
        "colab": {
          "base_uri": "https://localhost:8080/"
        },
        "id": "Cuu4MfJHA_N5",
        "outputId": "dec7eda7-c38d-43ab-ffab-95c936090efb"
      },
      "source": [
        "# Cмещенная оценка дисперсии\n",
        "var_sal = dif / len(salaries)\n",
        "var_sal"
      ],
      "execution_count": 4,
      "outputs": [
        {
          "output_type": "execute_result",
          "data": {
            "text/plain": [
              "950.11"
            ]
          },
          "metadata": {
            "tags": []
          },
          "execution_count": 4
        }
      ]
    },
    {
      "cell_type": "code",
      "metadata": {
        "colab": {
          "base_uri": "https://localhost:8080/"
        },
        "id": "NRkYSMshB4Hi",
        "outputId": "0b95490c-891f-4c4a-dcf3-d3174bfcf737"
      },
      "source": [
        "# Несмещенную оценка дисперсии\n",
        "r_var_sal = dif / (len(salaries)-1)\n",
        "r_var_sal"
      ],
      "execution_count": 5,
      "outputs": [
        {
          "output_type": "execute_result",
          "data": {
            "text/plain": [
              "1000.1157894736842"
            ]
          },
          "metadata": {
            "tags": []
          },
          "execution_count": 5
        }
      ]
    },
    {
      "cell_type": "markdown",
      "metadata": {
        "id": "MO9TFMTyCjYE"
      },
      "source": [
        "#### Задание №2\n",
        "В первом ящике находится 8 мячей, из которых 5 - белые. Во втором ящике - 12 мячей, из которых 5 белых. Из первого ящика вытаскивают случайным образом два мяча, из второго - 4. Какова вероятность того, что 3 мяча белые?\n",
        "\n",
        "Существует три возможных варианта с мячами: когда из первого ящика достали два белых, а из второго один; когда из первого ящика достали один белый, а из второго два и когда все три шара достали из второго ящика."
      ]
    },
    {
      "cell_type": "code",
      "metadata": {
        "id": "7Y3UcuJQCe60",
        "colab": {
          "base_uri": "https://localhost:8080/"
        },
        "outputId": "2506b51e-e1b8-4035-f8cb-63c60bc5ec24"
      },
      "source": [
        "def combinations(n, k):\n",
        "  return int(math.factorial(n) / (math.factorial(k) * math.factorial(n - k)))\n",
        "# Определим количество всех комбинаций мачей из корзин\n",
        "all_balls = combinations(8, 2) * combinations(12, 4)\n",
        "all_balls"
      ],
      "execution_count": 6,
      "outputs": [
        {
          "output_type": "execute_result",
          "data": {
            "text/plain": [
              "13860"
            ]
          },
          "metadata": {
            "tags": []
          },
          "execution_count": 6
        }
      ]
    },
    {
      "cell_type": "code",
      "metadata": {
        "colab": {
          "base_uri": "https://localhost:8080/"
        },
        "id": "NXUrlEYKFdk2",
        "outputId": "49440365-500d-4f4b-81e3-bb87b93dd2de"
      },
      "source": [
        "# Определим количесво кобминаций когда 2 белых мяча из первого ящика и один из второго\n",
        "first_white = combinations(5, 2) * combinations(5, 1) * combinations(7, 3)\n",
        "first_white "
      ],
      "execution_count": 7,
      "outputs": [
        {
          "output_type": "execute_result",
          "data": {
            "text/plain": [
              "1750"
            ]
          },
          "metadata": {
            "tags": []
          },
          "execution_count": 7
        }
      ]
    },
    {
      "cell_type": "code",
      "metadata": {
        "colab": {
          "base_uri": "https://localhost:8080/"
        },
        "id": "gBaDEMdeHPF3",
        "outputId": "3fded6be-f724-4751-a4e7-06096d45df6a"
      },
      "source": [
        "# Определим количесво кобминаций когда 1 белый мяч из первого ящика и 2 из второго\n",
        "second_white = combinations(5, 1) * combinations(3, 1) * combinations(5, 2) * combinations(7, 2)\n",
        "second_white "
      ],
      "execution_count": 8,
      "outputs": [
        {
          "output_type": "execute_result",
          "data": {
            "text/plain": [
              "3150"
            ]
          },
          "metadata": {
            "tags": []
          },
          "execution_count": 8
        }
      ]
    },
    {
      "cell_type": "code",
      "metadata": {
        "colab": {
          "base_uri": "https://localhost:8080/"
        },
        "id": "uFgp75MaHen0",
        "outputId": "f2feec36-4c15-4b8c-80ff-5177de6b6a69"
      },
      "source": [
        "# Определим количесво кобминаций когда все три мача были из второго ящика\n",
        "third_white = combinations(3, 2) * combinations(5, 3) * combinations(7, 1)\n",
        "third_white "
      ],
      "execution_count": 9,
      "outputs": [
        {
          "output_type": "execute_result",
          "data": {
            "text/plain": [
              "210"
            ]
          },
          "metadata": {
            "tags": []
          },
          "execution_count": 9
        }
      ]
    },
    {
      "cell_type": "code",
      "metadata": {
        "colab": {
          "base_uri": "https://localhost:8080/"
        },
        "id": "C2ZQju93ICGH",
        "outputId": "5def2330-19f7-48bd-c07a-d82b28c4882b"
      },
      "source": [
        "# Вероятность вытащит три белых мяча\n",
        "prob_three_white = (first_white + second_white + third_white) / all_balls\n",
        "prob_three_white"
      ],
      "execution_count": 10,
      "outputs": [
        {
          "output_type": "execute_result",
          "data": {
            "text/plain": [
              "0.3686868686868687"
            ]
          },
          "metadata": {
            "tags": []
          },
          "execution_count": 10
        }
      ]
    },
    {
      "cell_type": "markdown",
      "metadata": {
        "id": "I3fKqYOUI1Pk"
      },
      "source": [
        "#### Задание №3\n",
        "На соревновании по биатлону один из трех спортсменов стреляет и попадает в мишень. Вероятность попадания для первого спортсмена равна 0.9, для второго — 0.8, для третьего — 0.6. Найти вероятность того, что выстрел произведен: a). первым спортсменом б). вторым спортсменом в). третьим спортсменом.\n",
        "\n",
        "Верояности будем находить по формуле Байеса"
      ]
    },
    {
      "cell_type": "code",
      "metadata": {
        "colab": {
          "base_uri": "https://localhost:8080/"
        },
        "id": "UrmOmOADIfim",
        "outputId": "53f38bde-7f6d-48b0-c453-2f2747907431"
      },
      "source": [
        "# P(A)\n",
        "\n",
        "prob_a = 1/3 * 0.9 + 1/3 * 0.8 + 1/3 * 0.6\n",
        "prob_a\n"
      ],
      "execution_count": 11,
      "outputs": [
        {
          "output_type": "execute_result",
          "data": {
            "text/plain": [
              "0.7666666666666666"
            ]
          },
          "metadata": {
            "tags": []
          },
          "execution_count": 11
        }
      ]
    },
    {
      "cell_type": "code",
      "metadata": {
        "colab": {
          "base_uri": "https://localhost:8080/"
        },
        "id": "iMhkTGvVMmef",
        "outputId": "ce4c58bb-4362-46ed-dac7-90721cb294fe"
      },
      "source": [
        "# Вероятность выстрела первым спортсменом\n",
        "prob_f_shooter = 1/3 * 0.9 / prob_a\n",
        "prob_f_shooter"
      ],
      "execution_count": 12,
      "outputs": [
        {
          "output_type": "execute_result",
          "data": {
            "text/plain": [
              "0.391304347826087"
            ]
          },
          "metadata": {
            "tags": []
          },
          "execution_count": 12
        }
      ]
    },
    {
      "cell_type": "code",
      "metadata": {
        "colab": {
          "base_uri": "https://localhost:8080/"
        },
        "id": "S_ng3tIaNRxd",
        "outputId": "af3d820f-2740-4823-eb46-e88984cf0690"
      },
      "source": [
        "# Вероятность выстрела вторым спортсменом\n",
        "prob_s_shooter = 1/3 * 0.8 / prob_a\n",
        "prob_s_shooter"
      ],
      "execution_count": 13,
      "outputs": [
        {
          "output_type": "execute_result",
          "data": {
            "text/plain": [
              "0.3478260869565218"
            ]
          },
          "metadata": {
            "tags": []
          },
          "execution_count": 13
        }
      ]
    },
    {
      "cell_type": "code",
      "metadata": {
        "colab": {
          "base_uri": "https://localhost:8080/"
        },
        "id": "3xanD5d4NZGJ",
        "outputId": "acb78f5b-9484-4a71-8ce8-5e735de36a59"
      },
      "source": [
        "# Вероятность выстрела третьим спортсменом\n",
        "prob_t_shooter = 1/3 * 0.6 / prob_a\n",
        "prob_t_shooter"
      ],
      "execution_count": 14,
      "outputs": [
        {
          "output_type": "execute_result",
          "data": {
            "text/plain": [
              "0.2608695652173913"
            ]
          },
          "metadata": {
            "tags": []
          },
          "execution_count": 14
        }
      ]
    },
    {
      "cell_type": "markdown",
      "metadata": {
        "id": "uTMX04y3OCns"
      },
      "source": [
        "#### Задание №4\n",
        "В университет на факультеты A и B поступило равное количество студентов, а на факультет C студентов поступило столько же, сколько на A и B вместе. Вероятность того, что студент факультета A сдаст первую сессию, равна 0.8. Для студента факультета B эта вероятность равна 0.7, а для студента факультета C - 0.9. Студент сдал первую сессию. Какова вероятность, что он учится: a). на факультете A б). на факультете B в). на факультете C?"
      ]
    },
    {
      "cell_type": "code",
      "metadata": {
        "id": "qtWMES2qN4f-"
      },
      "source": [
        "# Распределение студентов по факультетам будет\n",
        "fac_a = 0.25\n",
        "fac_b = 0.25\n",
        "fac_c = 0.5"
      ],
      "execution_count": 16,
      "outputs": []
    },
    {
      "cell_type": "code",
      "metadata": {
        "colab": {
          "base_uri": "https://localhost:8080/"
        },
        "id": "ANPxsxe7Nw9r",
        "outputId": "4f28becd-472f-4716-f7f1-2ed06a3b87fd"
      },
      "source": [
        "# P(A)\n",
        "\n",
        "prob_a = fac_a * 0.8 + fac_b * 0.7 + fac_c * 0.9\n",
        "prob_a"
      ],
      "execution_count": 17,
      "outputs": [
        {
          "output_type": "execute_result",
          "data": {
            "text/plain": [
              "0.825"
            ]
          },
          "metadata": {
            "tags": []
          },
          "execution_count": 17
        }
      ]
    },
    {
      "cell_type": "code",
      "metadata": {
        "colab": {
          "base_uri": "https://localhost:8080/"
        },
        "id": "ZPfCMO1TQXAD",
        "outputId": "1858a9a0-17b0-4709-8cbe-0c60897d64d3"
      },
      "source": [
        "# Вероятность сдачи сессии студентом с факультета А\n",
        "prob_a_student = fac_a * 0.8 / prob_a\n",
        "prob_a_student"
      ],
      "execution_count": 18,
      "outputs": [
        {
          "output_type": "execute_result",
          "data": {
            "text/plain": [
              "0.24242424242424246"
            ]
          },
          "metadata": {
            "tags": []
          },
          "execution_count": 18
        }
      ]
    },
    {
      "cell_type": "code",
      "metadata": {
        "colab": {
          "base_uri": "https://localhost:8080/"
        },
        "id": "yNaUeg9yQw_V",
        "outputId": "ce7142e2-ba03-45dd-a8ac-6997d9e3d9f6"
      },
      "source": [
        "# Вероятность сдачи сессии студентом с факультета B\n",
        "prob_b_student = fac_b * 0.7 / prob_a\n",
        "prob_b_student"
      ],
      "execution_count": 19,
      "outputs": [
        {
          "output_type": "execute_result",
          "data": {
            "text/plain": [
              "0.21212121212121213"
            ]
          },
          "metadata": {
            "tags": []
          },
          "execution_count": 19
        }
      ]
    },
    {
      "cell_type": "code",
      "metadata": {
        "colab": {
          "base_uri": "https://localhost:8080/"
        },
        "id": "yyLi0zpYQ4KH",
        "outputId": "6628a087-0d94-42f1-d5ff-de031d340c7f"
      },
      "source": [
        "# Вероятность сдачи сессии студентом с факультета C\n",
        "prob_c_student = fac_c * 0.8 / prob_a\n",
        "prob_c_student"
      ],
      "execution_count": 21,
      "outputs": [
        {
          "output_type": "execute_result",
          "data": {
            "text/plain": [
              "0.4848484848484849"
            ]
          },
          "metadata": {
            "tags": []
          },
          "execution_count": 21
        }
      ]
    },
    {
      "cell_type": "markdown",
      "metadata": {
        "id": "uWodQWaCRPJd"
      },
      "source": [
        "#### Задание №5\n",
        "Устройство состоит из трех деталей. Для первой детали вероятность выйти из строя в первый месяц равна 0.1, для второй - 0.2, для третьей - 0.25. Какова вероятность того, что в первый месяц выйдут из строя: а). все детали б). только две детали в). хотя бы одна деталь г). от одной до двух деталей?"
      ]
    },
    {
      "cell_type": "code",
      "metadata": {
        "id": "ZvUDnvlsUqvb"
      },
      "source": [
        "f_thing = 0.1\n",
        "s_thing = 0.2\n",
        "t_thing = 0.25"
      ],
      "execution_count": 23,
      "outputs": []
    },
    {
      "cell_type": "code",
      "metadata": {
        "colab": {
          "base_uri": "https://localhost:8080/"
        },
        "id": "sI_IzXNIRM5_",
        "outputId": "b9ff15d0-9ea3-4161-ab8d-5c5d1224312f"
      },
      "source": [
        "# Вероятность того, что в первый месяц выйдут из строя все детали\n",
        "prob_all_broke = f_thing * s_thing * t_thing\n",
        "prob_all_broke"
      ],
      "execution_count": 24,
      "outputs": [
        {
          "output_type": "execute_result",
          "data": {
            "text/plain": [
              "0.005000000000000001"
            ]
          },
          "metadata": {
            "tags": []
          },
          "execution_count": 24
        }
      ]
    },
    {
      "cell_type": "code",
      "metadata": {
        "colab": {
          "base_uri": "https://localhost:8080/"
        },
        "id": "pnQhiRaSQ_9M",
        "outputId": "73f5aab4-5939-4f64-e6bd-0a557736b0bc"
      },
      "source": [
        "# Вероятность того, что в первый месяц выйдут из строя только две детали\n",
        "prob_two_broke = f_thing * s_thing * (1 - t_thing) + f_thing * (1 - s_thing) * t_thing + (1- f_thing) * s_thing * t_thing\n",
        "prob_two_broke"
      ],
      "execution_count": 25,
      "outputs": [
        {
          "output_type": "execute_result",
          "data": {
            "text/plain": [
              "0.08000000000000002"
            ]
          },
          "metadata": {
            "tags": []
          },
          "execution_count": 25
        }
      ]
    },
    {
      "cell_type": "code",
      "metadata": {
        "colab": {
          "base_uri": "https://localhost:8080/"
        },
        "id": "lIrTn9JGQ7-4",
        "outputId": "212e9ceb-c6fd-4f29-9077-ace5a5e065dd"
      },
      "source": [
        "# Вероятность того, что в первый месяц выйдут из строя хотя бы одна деталь\n",
        "prob_one_broke = 1 - (1-f_thing) * (1- s_thing) * (1 - t_thing)\n",
        "prob_one_broke"
      ],
      "execution_count": 26,
      "outputs": [
        {
          "output_type": "execute_result",
          "data": {
            "text/plain": [
              "0.45999999999999996"
            ]
          },
          "metadata": {
            "tags": []
          },
          "execution_count": 26
        }
      ]
    },
    {
      "cell_type": "code",
      "metadata": {
        "colab": {
          "base_uri": "https://localhost:8080/"
        },
        "id": "tmXZTFdFWNsw",
        "outputId": "536baf4c-70d9-4063-fb66-7c977ac15a30"
      },
      "source": [
        "# Вероятность того, что в первый месяц выйдут из строя от одной до двух деталей\n",
        "prob_one_or_two_broke = prob_one_broke - prob_all_broke\n",
        "prob_one_or_two_broke"
      ],
      "execution_count": 27,
      "outputs": [
        {
          "output_type": "execute_result",
          "data": {
            "text/plain": [
              "0.45499999999999996"
            ]
          },
          "metadata": {
            "tags": []
          },
          "execution_count": 27
        }
      ]
    },
    {
      "cell_type": "code",
      "metadata": {
        "id": "VoLQG5zgYUDN"
      },
      "source": [
        ""
      ],
      "execution_count": null,
      "outputs": []
    }
  ]
}