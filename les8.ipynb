{
  "nbformat": 4,
  "nbformat_minor": 0,
  "metadata": {
    "colab": {
      "name": "Untitled17.ipynb",
      "provenance": []
    },
    "kernelspec": {
      "name": "python3",
      "display_name": "Python 3"
    },
    "language_info": {
      "name": "python"
    }
  },
  "cells": [
    {
      "cell_type": "code",
      "metadata": {
        "id": "H0aZjgDOE62p"
      },
      "source": [
        "import numpy as np"
      ],
      "execution_count": 1,
      "outputs": []
    },
    {
      "cell_type": "markdown",
      "metadata": {
        "id": "uMLNHdMsE-RR"
      },
      "source": [
        "### Урок 8. Дисперсионный анализ. Логистическая регрессия"
      ]
    },
    {
      "cell_type": "markdown",
      "metadata": {
        "id": "pZ8nDJ78FCJ1"
      },
      "source": [
        "#### Задание №1\n",
        "Провести дисперсионный анализ для определения того, есть ли различия среднего роста среди взрослых футболистов, хоккеистов и штангистов. Даны значения роста в трех группах случайно выбранных спортсменов: Футболисты: 173, 175, 180, 178, 177, 185, 183, 182. Хоккеисты: 177, 179, 180, 188, 177, 172, 171, 184, 180. Штангисты: 172, 173, 169, 177, 166, 180, 178, 177, 172, 166, 170."
      ]
    },
    {
      "cell_type": "code",
      "metadata": {
        "id": "9V-gTRYBFA2P"
      },
      "source": [
        "fb = np.array([173, 175, 180, 178, 177, 185, 183, 182]) \n",
        "hk = np.array([177, 179, 180, 188, 177, 172, 171, 184, 180]) \n",
        "ath = np.array([172, 173, 169, 177, 166, 180, 178, 177, 172, 166, 170]) "
      ],
      "execution_count": 2,
      "outputs": []
    },
    {
      "cell_type": "code",
      "metadata": {
        "colab": {
          "base_uri": "https://localhost:8080/"
        },
        "id": "zKx5ZYhCFYAZ",
        "outputId": "3ba8c41a-6873-4f92-cf07-816e2b7e1236"
      },
      "source": [
        "# Найдём среднее для каждой группы\n",
        "mean_fb = np.mean(fb)\n",
        "mean_hk = np.mean(hk)\n",
        "mean_ath = np.mean(ath)\n",
        "(mean_fb, mean_hk, mean_ath)"
      ],
      "execution_count": 3,
      "outputs": [
        {
          "output_type": "execute_result",
          "data": {
            "text/plain": [
              "(179.125, 178.66666666666666, 172.72727272727272)"
            ]
          },
          "metadata": {
            "tags": []
          },
          "execution_count": 3
        }
      ]
    },
    {
      "cell_type": "code",
      "metadata": {
        "colab": {
          "base_uri": "https://localhost:8080/"
        },
        "id": "E2oVrNoxJXfW",
        "outputId": "1b2b2494-c1a9-4134-c14a-7a47c767b89f"
      },
      "source": [
        "# Найдем общее среднее\n",
        "mean_all = np.mean(np.hstack([fb, hk, ath]))\n",
        "mean_all\n"
      ],
      "execution_count": 4,
      "outputs": [
        {
          "output_type": "execute_result",
          "data": {
            "text/plain": [
              "176.46428571428572"
            ]
          },
          "metadata": {
            "tags": []
          },
          "execution_count": 4
        }
      ]
    },
    {
      "cell_type": "code",
      "metadata": {
        "colab": {
          "base_uri": "https://localhost:8080/"
        },
        "id": "IoUb5KkuK9Q5",
        "outputId": "2b68b053-004b-4832-82b6-2ccffd3bfe9a"
      },
      "source": [
        "# Найдём сумму квадратов отклонений среди групавых значений\n",
        "Sf = (mean_fb - mean_all)**2 * len(fb) + (mean_hk - mean_all)**2 * len(hk) + (mean_ath - mean_all)**2 * len(ath)\n",
        "Sf"
      ],
      "execution_count": 5,
      "outputs": [
        {
          "output_type": "execute_result",
          "data": {
            "text/plain": [
              "253.9074675324678"
            ]
          },
          "metadata": {
            "tags": []
          },
          "execution_count": 5
        }
      ]
    },
    {
      "cell_type": "code",
      "metadata": {
        "colab": {
          "base_uri": "https://localhost:8080/"
        },
        "id": "rqPHcmxKMImy",
        "outputId": "b0f074cf-b5c9-4097-effc-74fa49c060be"
      },
      "source": [
        "# Найдём остаточную сумму отклонений\n",
        "So = 0\n",
        "for i in [fb, hk, ath]:\n",
        "  a = 0\n",
        "  for j in i:\n",
        "    a += (j - np.mean(i))**2\n",
        "  So += a\n",
        "So"
      ],
      "execution_count": 6,
      "outputs": [
        {
          "output_type": "execute_result",
          "data": {
            "text/plain": [
              "577.0568181818181"
            ]
          },
          "metadata": {
            "tags": []
          },
          "execution_count": 6
        }
      ]
    },
    {
      "cell_type": "code",
      "metadata": {
        "colab": {
          "base_uri": "https://localhost:8080/"
        },
        "id": "6UiGu9yWOoQV",
        "outputId": "94a72e4f-faca-4a17-d621-5b807ecff345"
      },
      "source": [
        "# Найдём факторную дисперсию\n",
        "sigma_f = Sf / 2\n",
        "sigma_f"
      ],
      "execution_count": 9,
      "outputs": [
        {
          "output_type": "execute_result",
          "data": {
            "text/plain": [
              "126.9537337662339"
            ]
          },
          "metadata": {
            "tags": []
          },
          "execution_count": 9
        }
      ]
    },
    {
      "cell_type": "code",
      "metadata": {
        "colab": {
          "base_uri": "https://localhost:8080/"
        },
        "id": "DMy6EwJdPTVL",
        "outputId": "1ba6cf0c-5ce4-4078-b37d-e39f080c8691"
      },
      "source": [
        "# Найдём остаточною дисперсию\n",
        "all_sm = len(np.hstack([fb, hk, ath]))\n",
        "all_sm"
      ],
      "execution_count": 11,
      "outputs": [
        {
          "output_type": "execute_result",
          "data": {
            "text/plain": [
              "28"
            ]
          },
          "metadata": {
            "tags": []
          },
          "execution_count": 11
        }
      ]
    },
    {
      "cell_type": "code",
      "metadata": {
        "colab": {
          "base_uri": "https://localhost:8080/"
        },
        "id": "5BNHhf4QP-aq",
        "outputId": "7e69a683-7fc8-49a8-890f-5b66c589f53a"
      },
      "source": [
        "sigma_o = So / (all_sm - 3)\n",
        "sigma_o"
      ],
      "execution_count": 12,
      "outputs": [
        {
          "output_type": "execute_result",
          "data": {
            "text/plain": [
              "23.082272727272724"
            ]
          },
          "metadata": {
            "tags": []
          },
          "execution_count": 12
        }
      ]
    },
    {
      "cell_type": "code",
      "metadata": {
        "colab": {
          "base_uri": "https://localhost:8080/"
        },
        "id": "LEzIj87UPj91",
        "outputId": "46ecf2cc-8935-4eea-c6c1-f04baed36296"
      },
      "source": [
        "Fn = sigma_f / sigma_o\n",
        "Fn"
      ],
      "execution_count": 13,
      "outputs": [
        {
          "output_type": "execute_result",
          "data": {
            "text/plain": [
              "5.500053450812599"
            ]
          },
          "metadata": {
            "tags": []
          },
          "execution_count": 13
        }
      ]
    },
    {
      "cell_type": "code",
      "metadata": {
        "id": "oteVeOi_Sb5S"
      },
      "source": [
        "from scipy import stats"
      ],
      "execution_count": 14,
      "outputs": []
    },
    {
      "cell_type": "code",
      "metadata": {
        "colab": {
          "base_uri": "https://localhost:8080/"
        },
        "id": "L6p4K7NJSl_Y",
        "outputId": "bdba0738-35ff-465b-cd5a-508d1cb35ff4"
      },
      "source": [
        "stats.f_oneway(fb, hk, ath)"
      ],
      "execution_count": 15,
      "outputs": [
        {
          "output_type": "execute_result",
          "data": {
            "text/plain": [
              "F_onewayResult(statistic=5.500053450812596, pvalue=0.010482206918698694)"
            ]
          },
          "metadata": {
            "tags": []
          },
          "execution_count": 15
        }
      ]
    },
    {
      "cell_type": "markdown",
      "metadata": {
        "id": "giKxVHEoRe9Z"
      },
      "source": [
        "Критерий Фишера для уровня значимости 0,05 и степеней свободы 25 и 2 будет равен 2,76. А у нас получилось 5,5. Следовательно рост между группами спортменов отличается."
      ]
    },
    {
      "cell_type": "code",
      "metadata": {
        "id": "wELOGENcRIK4"
      },
      "source": [
        ""
      ],
      "execution_count": null,
      "outputs": []
    }
  ]
}