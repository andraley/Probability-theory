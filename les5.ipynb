{
  "nbformat": 4,
  "nbformat_minor": 0,
  "metadata": {
    "colab": {
      "name": "Untitled14.ipynb",
      "provenance": []
    },
    "kernelspec": {
      "name": "python3",
      "display_name": "Python 3"
    },
    "language_info": {
      "name": "python"
    }
  },
  "cells": [
    {
      "cell_type": "code",
      "metadata": {
        "id": "dfxnKGrWurkU"
      },
      "source": [
        "import numpy as np"
      ],
      "execution_count": 1,
      "outputs": []
    },
    {
      "cell_type": "markdown",
      "metadata": {
        "id": "aqUYZOoJutH7"
      },
      "source": [
        "### Урок 5. Проверка статистических гипотез. P-значения. Доверительные интервалы. A/B-тестирование"
      ]
    },
    {
      "cell_type": "markdown",
      "metadata": {
        "id": "XJ43aDxvu1jv"
      },
      "source": [
        "#### Задание №1\n",
        "1) Известно, что генеральная совокупность распределена нормально со средним квадратическим отклонением, равным 16.\u000bНайти доверительный интервал для оценки математического ожидания с надежностью 0.95,\u000bесли выборочная средняя M = 80, а объем выборки n = 256."
      ]
    },
    {
      "cell_type": "code",
      "metadata": {
        "colab": {
          "base_uri": "https://localhost:8080/"
        },
        "id": "_UE0XPtruylg",
        "outputId": "2be01a37-b153-4d1c-a6b9-3344cbe44c0b"
      },
      "source": [
        "# Доверительный интервал\n",
        "di1 = 80 + 1.96 * 16 / 256**0.5\n",
        "di1"
      ],
      "execution_count": 2,
      "outputs": [
        {
          "output_type": "execute_result",
          "data": {
            "text/plain": [
              "81.96"
            ]
          },
          "metadata": {
            "tags": []
          },
          "execution_count": 2
        }
      ]
    },
    {
      "cell_type": "code",
      "metadata": {
        "colab": {
          "base_uri": "https://localhost:8080/"
        },
        "id": "n2NNbtXS3EzI",
        "outputId": "6c8c134f-fc25-4f5e-a97f-e05ad7ae3ca6"
      },
      "source": [
        "di2 = 80 - 1.96 * 16 / 256**0.5\n",
        "di2"
      ],
      "execution_count": 3,
      "outputs": [
        {
          "output_type": "execute_result",
          "data": {
            "text/plain": [
              "78.04"
            ]
          },
          "metadata": {
            "tags": []
          },
          "execution_count": 3
        }
      ]
    },
    {
      "cell_type": "markdown",
      "metadata": {
        "id": "1OG5Fmzo3pgh"
      },
      "source": [
        "Доверительный интервал будет от 78.04 до 81.96 "
      ]
    },
    {
      "cell_type": "markdown",
      "metadata": {
        "id": "Gt3oJOe13qun"
      },
      "source": [
        "#### Задание №2\n",
        "2) В результате 10 независимых измерений некоторой величины X, выполненных с одинаковой точностью, получены опытные данные: 6.9, 6.1, 6.2, 6.8, 7.5, 6.3, 6.4, 6.9, 6.7, 6.1 Предполагая, что результаты измерений подчинены нормальному закону распределения вероятностей, оценить истинное значение величины X при помощи доверительного интервала, покрывающего это значение с доверительной вероятностью 0,95."
      ]
    },
    {
      "cell_type": "code",
      "metadata": {
        "colab": {
          "base_uri": "https://localhost:8080/"
        },
        "id": "TrROb2gT3NYM",
        "outputId": "1868f8eb-9468-4523-fb6c-3cfbfbda65dc"
      },
      "source": [
        "a = [6.9, 6.1, 6.2, 6.8, 7.5, 6.3, 6.4, 6.9, 6.7, 6.1]\n",
        "len(a)"
      ],
      "execution_count": 4,
      "outputs": [
        {
          "output_type": "execute_result",
          "data": {
            "text/plain": [
              "10"
            ]
          },
          "metadata": {
            "tags": []
          },
          "execution_count": 4
        }
      ]
    },
    {
      "cell_type": "code",
      "metadata": {
        "colab": {
          "base_uri": "https://localhost:8080/"
        },
        "id": "eweKfEWB3nkt",
        "outputId": "792104fa-5925-4f07-8cb8-dfee9b2e4745"
      },
      "source": [
        "# Найдем несмещенное среднеквадратичное откланение\n",
        "std_a = np.std(a, ddof=1)\n",
        "std_a"
      ],
      "execution_count": 5,
      "outputs": [
        {
          "output_type": "execute_result",
          "data": {
            "text/plain": [
              "0.4508017549014448"
            ]
          },
          "metadata": {
            "tags": []
          },
          "execution_count": 5
        }
      ]
    },
    {
      "cell_type": "code",
      "metadata": {
        "colab": {
          "base_uri": "https://localhost:8080/"
        },
        "id": "6Tyuvq7s4c8C",
        "outputId": "f7a513d2-cf56-4534-b51b-2c01680f6986"
      },
      "source": [
        "# Найдем среднее\n",
        "mean_a = np.mean(a)\n",
        "mean_a"
      ],
      "execution_count": 6,
      "outputs": [
        {
          "output_type": "execute_result",
          "data": {
            "text/plain": [
              "6.590000000000001"
            ]
          },
          "metadata": {
            "tags": []
          },
          "execution_count": 6
        }
      ]
    },
    {
      "cell_type": "code",
      "metadata": {
        "colab": {
          "base_uri": "https://localhost:8080/"
        },
        "id": "FdMspl-24msH",
        "outputId": "5592c40c-4c86-4045-a4b4-a3165d999706"
      },
      "source": [
        "#Найдем доверительный интервал\n",
        "di1 = 6.59 + 2.262 * std_a / len(a)**0.5\n",
        "di1 "
      ],
      "execution_count": 7,
      "outputs": [
        {
          "output_type": "execute_result",
          "data": {
            "text/plain": [
              "6.912461744087574"
            ]
          },
          "metadata": {
            "tags": []
          },
          "execution_count": 7
        }
      ]
    },
    {
      "cell_type": "code",
      "metadata": {
        "colab": {
          "base_uri": "https://localhost:8080/"
        },
        "id": "-_Sa0vE3581y",
        "outputId": "02e9793d-1da5-46eb-9816-9efa3212986d"
      },
      "source": [
        "di2= 6.59 - 2.262 * std_a / len(a)**0.5\n",
        "di2"
      ],
      "execution_count": 8,
      "outputs": [
        {
          "output_type": "execute_result",
          "data": {
            "text/plain": [
              "6.2675382559124255"
            ]
          },
          "metadata": {
            "tags": []
          },
          "execution_count": 8
        }
      ]
    },
    {
      "cell_type": "markdown",
      "metadata": {
        "id": "cJdLoY256Fjf"
      },
      "source": [
        "Доверительный интервал будет от 6.26 до 6.91"
      ]
    },
    {
      "cell_type": "markdown",
      "metadata": {
        "id": "if86NLUs6Nhk"
      },
      "source": [
        "#### Задание №3\n",
        "Утверждается, что шарики для подшипников, изготовленные автоматическим станком, имеют средний диаметр 17 мм. Используя односторонний критерий с α=0,05, проверить эту гипотезу, если в выборке из n=100 шариков средний диаметр\u000bоказался равным 17.5 мм, а дисперсия известна и равна 4 кв.мм."
      ]
    },
    {
      "cell_type": "code",
      "metadata": {
        "colab": {
          "base_uri": "https://localhost:8080/"
        },
        "id": "pD9zwTZt6AF7",
        "outputId": "0436bdda-e077-46b4-c82a-8325a1811229"
      },
      "source": [
        "# H0: X = m\n",
        "# H1: X > m\n",
        "Zh = (17.5 - 17 ) / (4**0.5 / 100**0.5)\n",
        "Zh"
      ],
      "execution_count": 9,
      "outputs": [
        {
          "output_type": "execute_result",
          "data": {
            "text/plain": [
              "2.5"
            ]
          },
          "metadata": {
            "tags": []
          },
          "execution_count": 9
        }
      ]
    },
    {
      "cell_type": "markdown",
      "metadata": {
        "id": "kzM9UJp58JbA"
      },
      "source": [
        "Нулевая гипотеза не верна, так как Z критерий для 5% равен 1.645 а для выборки он больше и равен 2.5"
      ]
    },
    {
      "cell_type": "markdown",
      "metadata": {
        "id": "SbBPZHe99Bpv"
      },
      "source": [
        "4) Продавец утверждает, что средний вес пачки печенья составляет 200 г. Из партии извлечена выборка из 10 пачек.\n",
        "Вес каждой пачки составляет:\n",
        "202, 203, 199, 197, 195, 201, 200, 204, 194, 190. Известно,\n",
        "что их веса распределены нормально.\n",
        "Верно ли утверждение продавца, если учитывать, что доверительная вероятность равна 99%?"
      ]
    },
    {
      "cell_type": "code",
      "metadata": {
        "colab": {
          "base_uri": "https://localhost:8080/"
        },
        "id": "W6sSti7173Ov",
        "outputId": "9fcb0823-cf6e-49f9-f82a-578e7e2a727b"
      },
      "source": [
        "# H0: X = m\n",
        "# H1: X /= m\n",
        "b = [202, 203, 199, 197, 195, 201, 200, 204, 194, 190]\n",
        "len(b)"
      ],
      "execution_count": 10,
      "outputs": [
        {
          "output_type": "execute_result",
          "data": {
            "text/plain": [
              "10"
            ]
          },
          "metadata": {
            "tags": []
          },
          "execution_count": 10
        }
      ]
    },
    {
      "cell_type": "code",
      "metadata": {
        "colab": {
          "base_uri": "https://localhost:8080/"
        },
        "id": "Fuf3kOrV9Kbi",
        "outputId": "bc37363e-cb73-419f-9d4a-795baac095fd"
      },
      "source": [
        "# Найдем несмещенное среднеквадратичное откланение\n",
        "std_b = np.std(b, ddof=1)\n",
        "std_b"
      ],
      "execution_count": 11,
      "outputs": [
        {
          "output_type": "execute_result",
          "data": {
            "text/plain": [
              "4.453463071962462"
            ]
          },
          "metadata": {
            "tags": []
          },
          "execution_count": 11
        }
      ]
    },
    {
      "cell_type": "code",
      "metadata": {
        "colab": {
          "base_uri": "https://localhost:8080/"
        },
        "id": "9716YUzb9Wh5",
        "outputId": "1f40427a-75ee-4601-993e-4962a72ec59a"
      },
      "source": [
        "# Найдем среднее\n",
        "mean_b = np.mean(b)\n",
        "mean_b"
      ],
      "execution_count": 12,
      "outputs": [
        {
          "output_type": "execute_result",
          "data": {
            "text/plain": [
              "198.5"
            ]
          },
          "metadata": {
            "tags": []
          },
          "execution_count": 12
        }
      ]
    },
    {
      "cell_type": "code",
      "metadata": {
        "colab": {
          "base_uri": "https://localhost:8080/"
        },
        "id": "CyobHSU69u6w",
        "outputId": "bc8d0aa7-7832-4a67-ad45-2f9abea57348"
      },
      "source": [
        "# Критерий Стьюденса\n",
        "tb = (200 - mean_b ) / (std_b / len(b)**0.5)\n",
        "tb"
      ],
      "execution_count": 13,
      "outputs": [
        {
          "output_type": "execute_result",
          "data": {
            "text/plain": [
              "1.0651074037450896"
            ]
          },
          "metadata": {
            "tags": []
          },
          "execution_count": 13
        }
      ]
    },
    {
      "cell_type": "markdown",
      "metadata": {
        "id": "e46PE2e7Eb0z"
      },
      "source": [
        "Нулевая гипотеза верна, так как t-критерий для 0.05% равен 3.6897 а для выборки он равен 1.06"
      ]
    },
    {
      "cell_type": "code",
      "metadata": {
        "id": "pGRO6HFy-p42"
      },
      "source": [
        ""
      ],
      "execution_count": 13,
      "outputs": []
    }
  ]
}