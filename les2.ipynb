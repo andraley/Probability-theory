{
  "nbformat": 4,
  "nbformat_minor": 0,
  "metadata": {
    "colab": {
      "name": "Untitled11.ipynb",
      "provenance": [],
      "collapsed_sections": []
    },
    "kernelspec": {
      "name": "python3",
      "display_name": "Python 3"
    },
    "language_info": {
      "name": "python"
    }
  },
  "cells": [
    {
      "cell_type": "code",
      "metadata": {
        "id": "d0HTt3Zx2jdE"
      },
      "source": [
        "import math"
      ],
      "execution_count": 1,
      "outputs": []
    },
    {
      "cell_type": "markdown",
      "metadata": {
        "id": "t8Evn4oH3HUR"
      },
      "source": [
        "### Урок 2. Дискретные случайные величины. Закон распределения вероятностей. Биномиальный закон распределения. Распределение Пуассона"
      ]
    },
    {
      "cell_type": "markdown",
      "metadata": {
        "id": "KiA91rsC3MYv"
      },
      "source": [
        "#### Задание №1\n",
        "Вероятность того, что стрелок попадет в мишень, выстрелив один раз, равна 0.8. Стрелок выстрелил 100 раз. Найдите вероятность того, что стрелок попадет в цель ровно 85 раз."
      ]
    },
    {
      "cell_type": "code",
      "metadata": {
        "id": "bssjZ92L3EwQ"
      },
      "source": [
        "# Напишем функции для определения сочентания и формулы Бернули\n",
        "def combinations(n, k):\n",
        "  return int(math.factorial(n) / (math.factorial(k) * math.factorial(n - k)))\n",
        "def bernully(p, n, k):\n",
        "  return combinations(n, k) * p**k * (1-p)**(n-k)"
      ],
      "execution_count": 5,
      "outputs": []
    },
    {
      "cell_type": "code",
      "metadata": {
        "colab": {
          "base_uri": "https://localhost:8080/"
        },
        "id": "pGZp6m543pyy",
        "outputId": "6f6abab8-e641-4d1a-ccc3-381fd2cb5173"
      },
      "source": [
        "# Определим вероятность того, что стрелок поподет ровно 85 раз\n",
        "shooter = bernully(0.8, 100, 85)\n",
        "shooter"
      ],
      "execution_count": 6,
      "outputs": [
        {
          "output_type": "execute_result",
          "data": {
            "text/plain": [
              "0.048061793700746355"
            ]
          },
          "metadata": {
            "tags": []
          },
          "execution_count": 6
        }
      ]
    },
    {
      "cell_type": "markdown",
      "metadata": {
        "id": "4EOb4HT95nUf"
      },
      "source": [
        "#### Задание №2\n",
        "Вероятность того, что лампочка перегорит в течение первого дня эксплуатации, равна 0.0004. В жилом комплексе после ремонта в один день включили 5000 новых лампочек. Какова вероятность, что ни одна из них не перегорит в первый день?\n",
        "Какова вероятность, что перегорят ровно две?"
      ]
    },
    {
      "cell_type": "code",
      "metadata": {
        "id": "5Ioo2yho5X9v"
      },
      "source": [
        "# Напишем функции для формулы Пуассона\n",
        "def puasson(p, n, m):\n",
        "  return (p*n)**m / math.factorial(m) * math.exp(-p*n)"
      ],
      "execution_count": 17,
      "outputs": []
    },
    {
      "cell_type": "code",
      "metadata": {
        "colab": {
          "base_uri": "https://localhost:8080/"
        },
        "id": "4S7cjWjT7KxI",
        "outputId": "35f92d63-c373-4d9b-ccc2-1e6890efed2d"
      },
      "source": [
        "# Определим вероятность, что ни одна из них не перегорит в первый день\n",
        "zero_bulbs = puasson(0.0004, 5000, 0)\n",
        "zero_bulbs"
      ],
      "execution_count": 19,
      "outputs": [
        {
          "output_type": "execute_result",
          "data": {
            "text/plain": [
              "0.1353352832366127"
            ]
          },
          "metadata": {
            "tags": []
          },
          "execution_count": 19
        }
      ]
    },
    {
      "cell_type": "code",
      "metadata": {
        "colab": {
          "base_uri": "https://localhost:8080/"
        },
        "id": "Xu25hVXm79v3",
        "outputId": "47064c9f-7d0a-49b3-d059-3f2cf0c2a2df"
      },
      "source": [
        "# Определим вероятность, что перегорят ровно две\n",
        "zero_bulbs = puasson(0.0004, 5000, 2)\n",
        "zero_bulbs"
      ],
      "execution_count": 20,
      "outputs": [
        {
          "output_type": "execute_result",
          "data": {
            "text/plain": [
              "0.2706705664732254"
            ]
          },
          "metadata": {
            "tags": []
          },
          "execution_count": 20
        }
      ]
    },
    {
      "cell_type": "markdown",
      "metadata": {
        "id": "qzKkCA2w8N9t"
      },
      "source": [
        "#### Задание №3\n",
        "Монету подбросили 144 раза. Какова вероятность, что орел выпадет ровно 70 раз?"
      ]
    },
    {
      "cell_type": "code",
      "metadata": {
        "colab": {
          "base_uri": "https://localhost:8080/"
        },
        "id": "AVOf1kDh8IyT",
        "outputId": "acd5197d-1aea-48a0-bf46-d5dbea35612a"
      },
      "source": [
        "# Определим вероятность того, что орел выпадет ровно 70 раз\n",
        "coin = bernully(0.5, 144, 70)\n",
        "coin"
      ],
      "execution_count": 24,
      "outputs": [
        {
          "output_type": "execute_result",
          "data": {
            "text/plain": [
              "0.06281178035144776"
            ]
          },
          "metadata": {
            "tags": []
          },
          "execution_count": 24
        }
      ]
    },
    {
      "cell_type": "markdown",
      "metadata": {
        "id": "qEyIrCFv8xYO"
      },
      "source": [
        "#### Задание №4\n",
        "В первом ящике находится 10 мячей, из которых 7 - белые. Во втором ящике - 11 мячей, из которых 9 белых. Из каждого ящика вытаскивают случайным образом по два мяча. Какова вероятность того, что все мячи белые? Какова вероятность того, что ровно два мяча белые? Какова вероятность того, что хотя бы один мяч белый?"
      ]
    },
    {
      "cell_type": "markdown",
      "metadata": {
        "id": "2BKO4QQB-cii"
      },
      "source": [
        "Какова вероятность того, что все мячи белые? "
      ]
    },
    {
      "cell_type": "code",
      "metadata": {
        "colab": {
          "base_uri": "https://localhost:8080/"
        },
        "id": "YVI-ZWRH8gKl",
        "outputId": "86859b12-103e-4f5f-9cc8-42ce9d2fb201"
      },
      "source": [
        "# Шанс достать 2 белых мяча из первой корзины будет\n",
        "prob_first_busket = 7/10 * 6/9\n",
        "prob_first_busket"
      ],
      "execution_count": 59,
      "outputs": [
        {
          "output_type": "execute_result",
          "data": {
            "text/plain": [
              "0.46666666666666656"
            ]
          },
          "metadata": {
            "tags": []
          },
          "execution_count": 59
        }
      ]
    },
    {
      "cell_type": "code",
      "metadata": {
        "colab": {
          "base_uri": "https://localhost:8080/"
        },
        "id": "eFuuXtxl-Fm2",
        "outputId": "695477cb-cd9c-42fd-e814-d4257c0cdc19"
      },
      "source": [
        "# Шанс достать 2 белых мяча из второй корзины будет\n",
        "prob_second_busket = 9/11 * 8/10\n",
        "prob_second_busket"
      ],
      "execution_count": 60,
      "outputs": [
        {
          "output_type": "execute_result",
          "data": {
            "text/plain": [
              "0.6545454545454545"
            ]
          },
          "metadata": {
            "tags": []
          },
          "execution_count": 60
        }
      ]
    },
    {
      "cell_type": "code",
      "metadata": {
        "colab": {
          "base_uri": "https://localhost:8080/"
        },
        "id": "T7jWknNy-BDO",
        "outputId": "d75bf0bb-efea-457e-c73c-96610afb66de"
      },
      "source": [
        "# Определим вероятность того, что все мячи белые \n",
        "prob_all_white =  prob_first_busket * prob_second_busket\n",
        "prob_all_white"
      ],
      "execution_count": 61,
      "outputs": [
        {
          "output_type": "execute_result",
          "data": {
            "text/plain": [
              "0.30545454545454537"
            ]
          },
          "metadata": {
            "tags": []
          },
          "execution_count": 61
        }
      ]
    },
    {
      "cell_type": "markdown",
      "metadata": {
        "id": "_qEqGixZ-rHC"
      },
      "source": [
        "Какова вероятность того, что ровно два мяча белые?\n"
      ]
    },
    {
      "cell_type": "code",
      "metadata": {
        "colab": {
          "base_uri": "https://localhost:8080/"
        },
        "id": "pQzpl8jB_eSW",
        "outputId": "aecbe0a7-70a3-4b38-af7e-c137f9f061e0"
      },
      "source": [
        "# Определим количество всех комбинаций мачей из корзин\n",
        "all_balls = combinations(10, 2) * combinations(11, 2)\n",
        "all_balls"
      ],
      "execution_count": 53,
      "outputs": [
        {
          "output_type": "execute_result",
          "data": {
            "text/plain": [
              "2475"
            ]
          },
          "metadata": {
            "tags": []
          },
          "execution_count": 53
        }
      ]
    },
    {
      "cell_type": "code",
      "metadata": {
        "colab": {
          "base_uri": "https://localhost:8080/"
        },
        "id": "Xom1vMF4Cq_3",
        "outputId": "a9381060-44f5-4583-d4df-53cf368352e4"
      },
      "source": [
        "# Определим количесво кобминаций когда 2 белых мяча из первой корзины\n",
        "first_white = combinations(7, 2) * combinations(2, 2)\n",
        "first_white "
      ],
      "execution_count": 55,
      "outputs": [
        {
          "output_type": "execute_result",
          "data": {
            "text/plain": [
              "21"
            ]
          },
          "metadata": {
            "tags": []
          },
          "execution_count": 55
        }
      ]
    },
    {
      "cell_type": "code",
      "metadata": {
        "colab": {
          "base_uri": "https://localhost:8080/"
        },
        "id": "X9-NLodYDKJz",
        "outputId": "1c9a89a7-36fd-47da-d381-ea14278fe1e7"
      },
      "source": [
        "# Определим количесво кобминаций когда 2 белых мяча из второй корзины\n",
        "second_white = combinations(9, 2) * combinations(3, 2)\n",
        "second_white"
      ],
      "execution_count": 56,
      "outputs": [
        {
          "output_type": "execute_result",
          "data": {
            "text/plain": [
              "108"
            ]
          },
          "metadata": {
            "tags": []
          },
          "execution_count": 56
        }
      ]
    },
    {
      "cell_type": "code",
      "metadata": {
        "colab": {
          "base_uri": "https://localhost:8080/"
        },
        "id": "5h-QUwqNDtML",
        "outputId": "5c875704-3a75-47e9-a974-3316d1d879ce"
      },
      "source": [
        "# Определим количесво кобминаций когда каждой корзины достали по одному белому шару\n",
        "one_white_first_busket = combinations(7, 1) * combinations(3, 1)\n",
        "one_white_second_busket = combinations(9, 1) * combinations(2, 1)\n",
        "one_white = one_white_first_busket * one_white_second_busket\n",
        "one_white"
      ],
      "execution_count": 57,
      "outputs": [
        {
          "output_type": "execute_result",
          "data": {
            "text/plain": [
              "378"
            ]
          },
          "metadata": {
            "tags": []
          },
          "execution_count": 57
        }
      ]
    },
    {
      "cell_type": "code",
      "metadata": {
        "colab": {
          "base_uri": "https://localhost:8080/"
        },
        "id": "M_e6coCxD2sI",
        "outputId": "c28eea59-9c9c-4ada-857a-51211c203bc1"
      },
      "source": [
        "# Всего комбинаций с двумя белами шарами будет\n",
        "two_white = first_white + second_white + one_white\n",
        "two_white"
      ],
      "execution_count": 58,
      "outputs": [
        {
          "output_type": "execute_result",
          "data": {
            "text/plain": [
              "507"
            ]
          },
          "metadata": {
            "tags": []
          },
          "execution_count": 58
        }
      ]
    },
    {
      "cell_type": "code",
      "metadata": {
        "colab": {
          "base_uri": "https://localhost:8080/"
        },
        "id": "cbc0WwerFW_T",
        "outputId": "41c0f6b9-aca3-41a0-c107-973b489ea058"
      },
      "source": [
        "# Вероятность вытащит два белых мяча из корзин будет\n",
        "prob_two_white = two_white / all_balls\n",
        "prob_two_white"
      ],
      "execution_count": 62,
      "outputs": [
        {
          "output_type": "execute_result",
          "data": {
            "text/plain": [
              "0.20484848484848484"
            ]
          },
          "metadata": {
            "tags": []
          },
          "execution_count": 62
        }
      ]
    },
    {
      "cell_type": "markdown",
      "metadata": {
        "id": "wHU3bDA3OYTR"
      },
      "source": [
        "Какова вероятность того, что хотя бы один мяч белый?\n",
        "Вероятность вытащить хотябы один белый мач бедет обратной вероятности не вытащить не одного белого мача."
      ]
    },
    {
      "cell_type": "code",
      "metadata": {
        "colab": {
          "base_uri": "https://localhost:8080/"
        },
        "id": "_Bou451OOUWU",
        "outputId": "76adc5e8-e479-4ab0-b876-59397c99aa0f"
      },
      "source": [
        "# Определим количество комбинаций с двумя не белыми мячами из первой корзины\n",
        "first_color = combinations(3, 2)\n",
        "first_color"
      ],
      "execution_count": 63,
      "outputs": [
        {
          "output_type": "execute_result",
          "data": {
            "text/plain": [
              "3"
            ]
          },
          "metadata": {
            "tags": []
          },
          "execution_count": 63
        }
      ]
    },
    {
      "cell_type": "code",
      "metadata": {
        "colab": {
          "base_uri": "https://localhost:8080/"
        },
        "id": "KbnktNeOP1H8",
        "outputId": "f975041d-fec3-484b-b70e-1ba6bd6e5a51"
      },
      "source": [
        "# Количество кобинаций из первой корзины будет равнятся единице\n",
        "second_color = combinations(2, 2)\n",
        "second_color"
      ],
      "execution_count": 64,
      "outputs": [
        {
          "output_type": "execute_result",
          "data": {
            "text/plain": [
              "1"
            ]
          },
          "metadata": {
            "tags": []
          },
          "execution_count": 64
        }
      ]
    },
    {
      "cell_type": "code",
      "metadata": {
        "colab": {
          "base_uri": "https://localhost:8080/"
        },
        "id": "u85Q44X3QUY2",
        "outputId": "9f835402-49b2-44a3-d07c-973f5792272b"
      },
      "source": [
        "# общее количество кобинаций будет\n",
        "color_balls = first_color * second_color\n",
        "color_balls"
      ],
      "execution_count": 65,
      "outputs": [
        {
          "output_type": "execute_result",
          "data": {
            "text/plain": [
              "3"
            ]
          },
          "metadata": {
            "tags": []
          },
          "execution_count": 65
        }
      ]
    },
    {
      "cell_type": "code",
      "metadata": {
        "colab": {
          "base_uri": "https://localhost:8080/"
        },
        "id": "25SDri8SQmWI",
        "outputId": "c69817f0-f007-4878-dc99-28a9e1eb301e"
      },
      "source": [
        "# Верояность вытащить все не белые мачи будет\n",
        "prob_color = color_balls / all_balls\n",
        "prob_color"
      ],
      "execution_count": 67,
      "outputs": [
        {
          "output_type": "execute_result",
          "data": {
            "text/plain": [
              "0.0012121212121212121"
            ]
          },
          "metadata": {
            "tags": []
          },
          "execution_count": 67
        }
      ]
    },
    {
      "cell_type": "code",
      "metadata": {
        "colab": {
          "base_uri": "https://localhost:8080/"
        },
        "id": "_vEi6qXbQ5yv",
        "outputId": "1a6f0cbc-bb33-4faa-edbe-740f9f2f3605"
      },
      "source": [
        "# Вероятность вытащить хотя бы один белый мач\n",
        "prob_white = 1 - prob_color\n",
        "prob_white"
      ],
      "execution_count": 68,
      "outputs": [
        {
          "output_type": "execute_result",
          "data": {
            "text/plain": [
              "0.9987878787878788"
            ]
          },
          "metadata": {
            "tags": []
          },
          "execution_count": 68
        }
      ]
    },
    {
      "cell_type": "code",
      "metadata": {
        "id": "9hVWEgmyRXA7"
      },
      "source": [
        ""
      ],
      "execution_count": null,
      "outputs": []
    }
  ]
}