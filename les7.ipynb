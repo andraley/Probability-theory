{
  "nbformat": 4,
  "nbformat_minor": 0,
  "metadata": {
    "colab": {
      "name": "Untitled16.ipynb",
      "provenance": [],
      "collapsed_sections": []
    },
    "kernelspec": {
      "name": "python3",
      "display_name": "Python 3"
    },
    "language_info": {
      "name": "python"
    }
  },
  "cells": [
    {
      "cell_type": "code",
      "metadata": {
        "id": "UiT-uq_1T1Oj"
      },
      "source": [
        "import numpy as np"
      ],
      "execution_count": 1,
      "outputs": []
    },
    {
      "cell_type": "markdown",
      "metadata": {
        "id": "qagN1S9mULAv"
      },
      "source": [
        "### Урок 7. Многомерный статистический анализ. Линейная регрессия"
      ]
    },
    {
      "cell_type": "markdown",
      "metadata": {
        "id": "qqt_-cmXUSnn"
      },
      "source": [
        "#### Задание №1\n",
        "Даны значения величины заработной платы заемщиков банка (zp) и значения их поведенческого кредитного скоринга (ks): zp = [35, 45, 190, 200, 40, 70, 54, 150, 120, 110], ks = [401, 574, 874, 919, 459, 739, 653, 902, 746, 832]. Используя математические операции, посчитать коэффициенты линейной регрессии, приняв за X заработную плату (то есть, zp - признак), а за y - значения скорингового балла (то есть, ks - целевая переменная). Произвести расчет как с использованием intercept, так и без."
      ]
    },
    {
      "cell_type": "code",
      "metadata": {
        "id": "btsW70D5UPaW"
      },
      "source": [
        "zp = np.array([35, 45, 190, 200, 40, 70, 54, 150, 120, 110])\n",
        "ks = np.array([401, 574, 874, 919, 459, 739, 653, 902, 746, 832])"
      ],
      "execution_count": 2,
      "outputs": []
    },
    {
      "cell_type": "code",
      "metadata": {
        "colab": {
          "base_uri": "https://localhost:8080/"
        },
        "id": "aF-IsiweXhJC",
        "outputId": "1a6527d6-8784-403d-ff2c-d4f2669c47f6"
      },
      "source": [
        "# Найдём коэффициент b \n",
        "b = (np.mean(zp*ks) - np.mean(zp) * np.mean(ks)) / (np.mean(zp**2) - (np.mean(zp))**2)\n",
        "b"
      ],
      "execution_count": 3,
      "outputs": [
        {
          "output_type": "execute_result",
          "data": {
            "text/plain": [
              "2.620538882402765"
            ]
          },
          "metadata": {
            "tags": []
          },
          "execution_count": 3
        }
      ]
    },
    {
      "cell_type": "code",
      "metadata": {
        "colab": {
          "base_uri": "https://localhost:8080/"
        },
        "id": "dnEqiL00ZTCQ",
        "outputId": "6a924066-52c0-4b6e-e130-5531b79d88e8"
      },
      "source": [
        "# Найдём коэффициент a \n",
        "a = np.mean(ks) - b * np.mean(zp)\n",
        "a"
      ],
      "execution_count": 4,
      "outputs": [
        {
          "output_type": "execute_result",
          "data": {
            "text/plain": [
              "444.1773573243596"
            ]
          },
          "metadata": {
            "tags": []
          },
          "execution_count": 4
        }
      ]
    },
    {
      "cell_type": "code",
      "metadata": {
        "colab": {
          "base_uri": "https://localhost:8080/"
        },
        "id": "dCvpOkMVaAmf",
        "outputId": "2b13bcfa-5eee-4b49-f314-4e75867abad5"
      },
      "source": [
        "y_hat = a + b * zp\n",
        "y_hat"
      ],
      "execution_count": 5,
      "outputs": [
        {
          "output_type": "execute_result",
          "data": {
            "text/plain": [
              "array([535.89621821, 562.10160703, 942.07974498, 968.2851338 ,\n",
              "       548.99891262, 627.61507909, 585.68645697, 837.25818968,\n",
              "       758.64202321, 732.43663439])"
            ]
          },
          "metadata": {
            "tags": []
          },
          "execution_count": 5
        }
      ]
    },
    {
      "cell_type": "markdown",
      "metadata": {
        "id": "eJ13CmyMU3iY"
      },
      "source": [
        "y_hat = 444.177 + 2.62*x\n"
      ]
    },
    {
      "cell_type": "code",
      "metadata": {
        "id": "hC_tJlSMdDxo"
      },
      "source": [
        "# Без интерсептера\n",
        "zp1 = zp.reshape(10,1)\n",
        "ks1 = ks.reshape(10,1)"
      ],
      "execution_count": 6,
      "outputs": []
    },
    {
      "cell_type": "code",
      "metadata": {
        "colab": {
          "base_uri": "https://localhost:8080/"
        },
        "id": "aOv5lnIfd7_9",
        "outputId": "0e369642-711d-4880-b5c0-fcf48a62c554"
      },
      "source": [
        "b1 = np.dot(np.linalg.inv(np.dot(zp1.T, zp1)), zp1.T@ks1)\n",
        "b1"
      ],
      "execution_count": 7,
      "outputs": [
        {
          "output_type": "execute_result",
          "data": {
            "text/plain": [
              "array([[5.88982042]])"
            ]
          },
          "metadata": {
            "tags": []
          },
          "execution_count": 7
        }
      ]
    },
    {
      "cell_type": "code",
      "metadata": {
        "colab": {
          "base_uri": "https://localhost:8080/"
        },
        "id": "lnR0lYdoe0VK",
        "outputId": "3a8469e3-cd98-45df-a81f-e3ff3daf9828"
      },
      "source": [
        "y2_hat = b1 * zp\n",
        "y2_hat"
      ],
      "execution_count": 8,
      "outputs": [
        {
          "output_type": "execute_result",
          "data": {
            "text/plain": [
              "array([[ 206.1437147 ,  265.04191891, 1119.06587983, 1177.96408403,\n",
              "         235.59281681,  412.28742941,  318.05030269,  883.47306302,\n",
              "         706.77845042,  647.88024621]])"
            ]
          },
          "metadata": {
            "tags": []
          },
          "execution_count": 8
        }
      ]
    },
    {
      "cell_type": "markdown",
      "metadata": {
        "id": "lFlUD99Df0ZW"
      },
      "source": [
        "y2_hat = 5.889 * x"
      ]
    },
    {
      "cell_type": "markdown",
      "metadata": {
        "id": "orB06BDNf8U2"
      },
      "source": [
        "#### Задание №2\n",
        "Посчитать коэффициент линейной регрессии при заработной плате (zp), используя градиентный спуск (без intercept). "
      ]
    },
    {
      "cell_type": "code",
      "metadata": {
        "id": "tZOF6ri0hcT6"
      },
      "source": [
        "alpha = 10**-6"
      ],
      "execution_count": 9,
      "outputs": []
    },
    {
      "cell_type": "code",
      "metadata": {
        "id": "dPy1U1l2hdZ1"
      },
      "source": [
        "b1 = 3"
      ],
      "execution_count": 10,
      "outputs": []
    },
    {
      "cell_type": "code",
      "metadata": {
        "colab": {
          "base_uri": "https://localhost:8080/"
        },
        "id": "F0dcJV7Sh0c7",
        "outputId": "edcf5c07-62af-49e9-f6ef-6e5ab721cae8"
      },
      "source": [
        "for i in range(1000):\n",
        "  b1 -= alpha * (2/len(zp)) * np.sum((b1*zp-ks)*zp)\n",
        "  if i%100==0:\n",
        "    print(b1)"
      ],
      "execution_count": 11,
      "outputs": [
        {
          "output_type": "stream",
          "text": [
            "3.0796238\n",
            "5.71790221780173\n",
            "5.879303053454158\n",
            "5.889177003668632\n",
            "5.88978105811757\n",
            "5.889818012099447\n",
            "5.889820272817466\n",
            "5.889820411120448\n",
            "5.889820419581351\n",
            "5.8898204200989595\n"
          ],
          "name": "stdout"
        }
      ]
    },
    {
      "cell_type": "markdown",
      "metadata": {
        "id": "ymEcLgH2lP_f"
      },
      "source": [
        "y3_hat = 5.889 * x"
      ]
    },
    {
      "cell_type": "markdown",
      "metadata": {
        "id": "yuLXPCmEkzTf"
      },
      "source": [
        "#### Задание №3\n",
        " Произвести вычисления как в пункте 2, но с вычислением intercept. Учесть, что изменение коэффициентов должно производиться на каждом шаге одновременно (то есть изменение одного коэффициента не должно влиять на изменение другого во время одной итерации)."
      ]
    },
    {
      "cell_type": "code",
      "metadata": {
        "colab": {
          "base_uri": "https://localhost:8080/"
        },
        "id": "6tqwp-OtjO-k",
        "outputId": "ba3b1b12-ba00-4020-a6b2-813d035f74f3"
      },
      "source": [
        "b0 = 400\n",
        "b1 = 2\n",
        "alpha = 10**-4.2\n",
        "for i in range(1000000):\n",
        "  b0 -= alpha * (2/len(zp)) * np.sum((b0 + b1*zp-ks))\n",
        "  b1 -= alpha * (2/len(zp)) * np.sum((b0 + b1*zp-ks)*zp)\n",
        "  if i%100000==0:\n",
        "    print(b1, b0)"
      ],
      "execution_count": 12,
      "outputs": [
        {
          "output_type": "stream",
          "text": [
            "3.6439126157126074 400.0135151063188\n",
            "2.633774304234221 442.37911677250474\n",
            "2.621077732767596 444.1041460138506\n",
            "2.6205608204806916 444.17437669088537\n",
            "2.62053977556216 444.17723597458604\n",
            "2.620538918765742 444.17735238387644\n",
            "2.6205388838832078 444.1773571232182\n",
            "2.620538882463047 444.1773573161694\n",
            "2.6205388824093 444.17735732347177\n",
            "2.6205388824093 444.17735732347177\n"
          ],
          "name": "stdout"
        }
      ]
    },
    {
      "cell_type": "markdown",
      "metadata": {
        "id": "eKzkYOcWtaqp"
      },
      "source": [
        "y4_hat = 444.177 + 2.62*x"
      ]
    },
    {
      "cell_type": "code",
      "metadata": {
        "id": "jxWJgHeZp1G3"
      },
      "source": [
        ""
      ],
      "execution_count": 12,
      "outputs": []
    }
  ]
}