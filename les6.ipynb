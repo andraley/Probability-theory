{
  "nbformat": 4,
  "nbformat_minor": 0,
  "metadata": {
    "colab": {
      "name": "Untitled15.ipynb",
      "provenance": [],
      "collapsed_sections": []
    },
    "kernelspec": {
      "name": "python3",
      "display_name": "Python 3"
    },
    "language_info": {
      "name": "python"
    }
  },
  "cells": [
    {
      "cell_type": "code",
      "metadata": {
        "id": "uazzoGnGtguK"
      },
      "source": [
        "import numpy as np\n",
        "import pandas as pd\n"
      ],
      "execution_count": 1,
      "outputs": []
    },
    {
      "cell_type": "markdown",
      "metadata": {
        "id": "LhnwA9gMtuRu"
      },
      "source": [
        "### Урок 6. Взаимосвязь величин. Параметрические и непараметрические показатели корреляции. Корреляционный анализ."
      ]
    },
    {
      "cell_type": "markdown",
      "metadata": {
        "id": "HKVppYUgt4WA"
      },
      "source": [
        "#### Задание №1\n",
        "Даны значения величины заработной платы заемщиков банка (zp) и значения их поведенческого кредитного скоринга (ks):\n",
        "zp = [35, 45, 190, 200, 40, 70, 54, 150, 120, 110],\n",
        "ks = [401, 574, 874, 919, 459, 739, 653, 902, 746, 832].\n",
        "Найдите ковариацию этих двух величин с помощью элементарных действий, а затем с помощью функции cov из numpy\n",
        "Полученные значения должны быть равны.\n",
        "Найдите коэффициент корреляции Пирсона с помощью ковариации и среднеквадратичных отклонений двух признаков,\n",
        "а затем с использованием функций из библиотек numpy и pandas."
      ]
    },
    {
      "cell_type": "code",
      "metadata": {
        "id": "UHesjcB8t3yK"
      },
      "source": [
        "zp = np.array([35, 45, 190, 200, 40, 70, 54, 150, 120, 110])\n",
        "ks = np.array([401, 574, 874, 919, 459, 739, 653, 902, 746, 832])"
      ],
      "execution_count": 2,
      "outputs": []
    },
    {
      "cell_type": "code",
      "metadata": {
        "colab": {
          "base_uri": "https://localhost:8080/"
        },
        "id": "7BXtYAAZuiJk",
        "outputId": "4d89fba2-f2e1-46f9-8262-2cd3c91f8f4f"
      },
      "source": [
        "# Ковариация\n",
        "c_cov = np.mean(zp*ks) - np.mean(zp) * np.mean(ks)\n",
        "c_cov"
      ],
      "execution_count": 3,
      "outputs": [
        {
          "output_type": "execute_result",
          "data": {
            "text/plain": [
              "9157.839999999997"
            ]
          },
          "metadata": {
            "tags": []
          },
          "execution_count": 3
        }
      ]
    },
    {
      "cell_type": "code",
      "metadata": {
        "colab": {
          "base_uri": "https://localhost:8080/"
        },
        "id": "VYgMay4k8mTs",
        "outputId": "806feee8-766e-4a9e-c496-267c21ffe403"
      },
      "source": [
        "f_cov = np.cov(zp, ks, ddof=0)\n",
        "f_cov"
      ],
      "execution_count": 4,
      "outputs": [
        {
          "output_type": "execute_result",
          "data": {
            "text/plain": [
              "array([[ 3494.64,  9157.84],\n",
              "       [ 9157.84, 30468.89]])"
            ]
          },
          "metadata": {
            "tags": []
          },
          "execution_count": 4
        }
      ]
    },
    {
      "cell_type": "code",
      "metadata": {
        "colab": {
          "base_uri": "https://localhost:8080/"
        },
        "id": "HI8Zdcwm8zjo",
        "outputId": "ad6274a9-5775-4664-9e84-60f7d16af3ca"
      },
      "source": [
        "# коэффициент корреляции Пирсона\n",
        "c_cov / (np.std(zp) * np.std(ks))"
      ],
      "execution_count": 5,
      "outputs": [
        {
          "output_type": "execute_result",
          "data": {
            "text/plain": [
              "0.8874900920739158"
            ]
          },
          "metadata": {
            "tags": []
          },
          "execution_count": 5
        }
      ]
    },
    {
      "cell_type": "code",
      "metadata": {
        "colab": {
          "base_uri": "https://localhost:8080/"
        },
        "id": "o55mpkG4-IdM",
        "outputId": "3536ac6e-cbc4-41a8-d432-d405af6ec965"
      },
      "source": [
        "np.corrcoef(zp, ks)"
      ],
      "execution_count": 6,
      "outputs": [
        {
          "output_type": "execute_result",
          "data": {
            "text/plain": [
              "array([[1.        , 0.88749009],\n",
              "       [0.88749009, 1.        ]])"
            ]
          },
          "metadata": {
            "tags": []
          },
          "execution_count": 6
        }
      ]
    },
    {
      "cell_type": "code",
      "metadata": {
        "colab": {
          "base_uri": "https://localhost:8080/",
          "height": 112
        },
        "id": "JmAnGbwy_VgV",
        "outputId": "7a3c7f22-c50a-4375-9388-ea2d7ab1dcec"
      },
      "source": [
        "df = pd.DataFrame({1:zp, 2: ks})\n",
        "df.corr()"
      ],
      "execution_count": 7,
      "outputs": [
        {
          "output_type": "execute_result",
          "data": {
            "text/html": [
              "<div>\n",
              "<style scoped>\n",
              "    .dataframe tbody tr th:only-of-type {\n",
              "        vertical-align: middle;\n",
              "    }\n",
              "\n",
              "    .dataframe tbody tr th {\n",
              "        vertical-align: top;\n",
              "    }\n",
              "\n",
              "    .dataframe thead th {\n",
              "        text-align: right;\n",
              "    }\n",
              "</style>\n",
              "<table border=\"1\" class=\"dataframe\">\n",
              "  <thead>\n",
              "    <tr style=\"text-align: right;\">\n",
              "      <th></th>\n",
              "      <th>1</th>\n",
              "      <th>2</th>\n",
              "    </tr>\n",
              "  </thead>\n",
              "  <tbody>\n",
              "    <tr>\n",
              "      <th>1</th>\n",
              "      <td>1.00000</td>\n",
              "      <td>0.88749</td>\n",
              "    </tr>\n",
              "    <tr>\n",
              "      <th>2</th>\n",
              "      <td>0.88749</td>\n",
              "      <td>1.00000</td>\n",
              "    </tr>\n",
              "  </tbody>\n",
              "</table>\n",
              "</div>"
            ],
            "text/plain": [
              "         1        2\n",
              "1  1.00000  0.88749\n",
              "2  0.88749  1.00000"
            ]
          },
          "metadata": {
            "tags": []
          },
          "execution_count": 7
        }
      ]
    },
    {
      "cell_type": "markdown",
      "metadata": {
        "id": "p9Rz2LvZBJPp"
      },
      "source": [
        "#### Задание №2\n",
        "Измерены значения IQ выборки студентов,\n",
        "обучающихся в местных технических вузах:\n",
        "131, 125, 115, 122, 131, 115, 107, 99, 125, 111.\n",
        "Известно, что в генеральной совокупности IQ распределен нормально.\n",
        "Найдите доверительный интервал для математического ожидания с надежностью 0.95."
      ]
    },
    {
      "cell_type": "code",
      "metadata": {
        "colab": {
          "base_uri": "https://localhost:8080/"
        },
        "id": "ymWbdjnI_xYJ",
        "outputId": "663258e5-9894-47b6-b35b-59b3f1062de6"
      },
      "source": [
        "iq = [131, 125, 115, 122, 131, 115, 107, 99, 125, 111]  \n",
        "len(iq)"
      ],
      "execution_count": 8,
      "outputs": [
        {
          "output_type": "execute_result",
          "data": {
            "text/plain": [
              "10"
            ]
          },
          "metadata": {
            "tags": []
          },
          "execution_count": 8
        }
      ]
    },
    {
      "cell_type": "code",
      "metadata": {
        "colab": {
          "base_uri": "https://localhost:8080/"
        },
        "id": "GVlYq-KDBVLK",
        "outputId": "ada8e563-2550-4a59-dafe-683398e230ec"
      },
      "source": [
        "iq_mean = np.mean(iq)\n",
        "iq_mean"
      ],
      "execution_count": 9,
      "outputs": [
        {
          "output_type": "execute_result",
          "data": {
            "text/plain": [
              "118.1"
            ]
          },
          "metadata": {
            "tags": []
          },
          "execution_count": 9
        }
      ]
    },
    {
      "cell_type": "code",
      "metadata": {
        "colab": {
          "base_uri": "https://localhost:8080/"
        },
        "id": "Sze_OEYJBkYA",
        "outputId": "d23eca80-d021-49d0-cc1e-fdfb5ef66cd0"
      },
      "source": [
        "iq_std = np.std(iq, ddof=1)\n",
        "iq_std"
      ],
      "execution_count": 10,
      "outputs": [
        {
          "output_type": "execute_result",
          "data": {
            "text/plain": [
              "10.54566788359614"
            ]
          },
          "metadata": {
            "tags": []
          },
          "execution_count": 10
        }
      ]
    },
    {
      "cell_type": "code",
      "metadata": {
        "colab": {
          "base_uri": "https://localhost:8080/"
        },
        "id": "9pMLBIuqBuUP",
        "outputId": "77757a3a-44cc-4a9c-b2b2-b706806d517f"
      },
      "source": [
        "#Найдем доверительный интервал\n",
        "r_iq = iq_mean + 2.262 * iq_std / len(iq)**0.5\n",
        "r_iq"
      ],
      "execution_count": 11,
      "outputs": [
        {
          "output_type": "execute_result",
          "data": {
            "text/plain": [
              "125.64339223691834"
            ]
          },
          "metadata": {
            "tags": []
          },
          "execution_count": 11
        }
      ]
    },
    {
      "cell_type": "code",
      "metadata": {
        "colab": {
          "base_uri": "https://localhost:8080/"
        },
        "id": "rKK53JLPCRDR",
        "outputId": "4596a31b-4ac0-416f-895b-9a78da58f88d"
      },
      "source": [
        "l_iq = iq_mean - 2.262 * iq_std / len(iq)**0.5\n",
        "l_iq"
      ],
      "execution_count": 12,
      "outputs": [
        {
          "output_type": "execute_result",
          "data": {
            "text/plain": [
              "110.55660776308164"
            ]
          },
          "metadata": {
            "tags": []
          },
          "execution_count": 12
        }
      ]
    },
    {
      "cell_type": "markdown",
      "metadata": {
        "id": "sw58dmc6F_bQ"
      },
      "source": [
        "Доверительный интервал будет от 110.5 до 125.6"
      ]
    },
    {
      "cell_type": "markdown",
      "metadata": {
        "id": "ns2g2PYoGIIA"
      },
      "source": [
        "#### Задание №3\n",
        "Известно, что рост футболистов в сборной распределен нормально\n",
        "с дисперсией генеральной совокупности, равной 25 кв.см. Объем выборки равен 27,\n",
        "среднее выборочное составляет 174.2. Найдите доверительный интервал для математического\n",
        "ожидания с надежностью 0.95."
      ]
    },
    {
      "cell_type": "code",
      "metadata": {
        "colab": {
          "base_uri": "https://localhost:8080/"
        },
        "id": "O1517CtcEyQe",
        "outputId": "9b697ef3-5ce3-4d31-ffd8-d9e8ff10634a"
      },
      "source": [
        "# Доверительный интервал\n",
        "r_h = 174.2 + 1.96 * 25**0.5 / 27**0.5\n",
        "r_h"
      ],
      "execution_count": 13,
      "outputs": [
        {
          "output_type": "execute_result",
          "data": {
            "text/plain": [
              "176.08601087935276"
            ]
          },
          "metadata": {
            "tags": []
          },
          "execution_count": 13
        }
      ]
    },
    {
      "cell_type": "code",
      "metadata": {
        "colab": {
          "base_uri": "https://localhost:8080/"
        },
        "id": "m_fAdHjVGwj3",
        "outputId": "eeace3ca-acdb-48e9-b5ff-7ff3f9e9edff"
      },
      "source": [
        "l_h = 174.2 - 1.96 * 25**0.5 / 27**0.5\n",
        "l_h"
      ],
      "execution_count": 14,
      "outputs": [
        {
          "output_type": "execute_result",
          "data": {
            "text/plain": [
              "172.31398912064722"
            ]
          },
          "metadata": {
            "tags": []
          },
          "execution_count": 14
        }
      ]
    },
    {
      "cell_type": "markdown",
      "metadata": {
        "id": "epCgi0MoG40a"
      },
      "source": [
        "Доверительный интервал будет от 172.31 до 176.08"
      ]
    },
    {
      "cell_type": "code",
      "metadata": {
        "id": "ePUjhqwNG2GV"
      },
      "source": [
        ""
      ],
      "execution_count": null,
      "outputs": []
    }
  ]
}