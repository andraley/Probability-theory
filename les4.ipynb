{
  "nbformat": 4,
  "nbformat_minor": 0,
  "metadata": {
    "colab": {
      "name": "Untitled13.ipynb",
      "provenance": [],
      "collapsed_sections": []
    },
    "kernelspec": {
      "name": "python3",
      "display_name": "Python 3"
    },
    "language_info": {
      "name": "python"
    }
  },
  "cells": [
    {
      "cell_type": "code",
      "metadata": {
        "id": "xAHAKRhKgZia"
      },
      "source": [
        ""
      ],
      "execution_count": null,
      "outputs": []
    },
    {
      "cell_type": "markdown",
      "metadata": {
        "id": "NwAgB-iIgbgr"
      },
      "source": [
        "### Урок 2. Дискретные случайные величины. Закон распределения вероятностей. Биномиальный закон распределения. Распределение Пуассона"
      ]
    },
    {
      "cell_type": "markdown",
      "metadata": {
        "id": "5DId4J9SiOXR"
      },
      "source": [
        "#### Задание №1\n",
        "Случайная непрерывная величина A имеет равномерное распределение на промежутке (200, 800].\n",
        "Найдите ее среднее значение и дисперсию."
      ]
    },
    {
      "cell_type": "code",
      "metadata": {
        "colab": {
          "base_uri": "https://localhost:8080/"
        },
        "id": "b4xmup3jiLYM",
        "outputId": "a029beb0-a447-4f12-ca3f-cdad2b97b293"
      },
      "source": [
        "# Средее велечины А\n",
        "mean_a = (800-200)/2\n",
        "mean_a"
      ],
      "execution_count": 1,
      "outputs": [
        {
          "output_type": "execute_result",
          "data": {
            "text/plain": [
              "300.0"
            ]
          },
          "metadata": {
            "tags": []
          },
          "execution_count": 1
        }
      ]
    },
    {
      "cell_type": "code",
      "metadata": {
        "colab": {
          "base_uri": "https://localhost:8080/"
        },
        "id": "M9OcsUGZiiNP",
        "outputId": "12144380-14ca-426a-a2c6-0e5736aec25d"
      },
      "source": [
        "# Дисперсия\n",
        "var_a = (800-200)**2 / 12\n",
        "var_a"
      ],
      "execution_count": 2,
      "outputs": [
        {
          "output_type": "execute_result",
          "data": {
            "text/plain": [
              "30000.0"
            ]
          },
          "metadata": {
            "tags": []
          },
          "execution_count": 2
        }
      ]
    },
    {
      "cell_type": "markdown",
      "metadata": {
        "id": "f6LLLKR6jAP4"
      },
      "source": [
        "#### Задание №2\n",
        "О случайной непрерывной равномерно распределенной величине B известно, что ее дисперсия равна 0.2.\n",
        "Можно ли найти правую границу величины B и ее среднее значение зная, что левая граница равна 0.5?\n",
        "Если да, найдите ее.\n",
        "\n",
        "D(B) = (b-a)^2/12\n",
        "\n",
        "12*D(B) = b^2-2*a*b+a^2\n",
        "\n",
        "b^2 - 2*a*b + (a^2-12*D(B)) = 0\n",
        "\n",
        "b = (2*a +(-) ((-2*a)^2 - 4 * (a^2-12*D(B)))^0.5) / 2"
      ]
    },
    {
      "cell_type": "code",
      "metadata": {
        "colab": {
          "base_uri": "https://localhost:8080/"
        },
        "id": "sFfvqEoJi7qd",
        "outputId": "b39830b9-65ab-40d1-d461-01c582ba56dd"
      },
      "source": [
        "# Правая граница величены B\n",
        "b1 = (2*0.5 + ((-2*0.5)**2 - 4*(0.5**2 - 12*0.2))**0.5 ) / 2\n",
        "b1"
      ],
      "execution_count": 9,
      "outputs": [
        {
          "output_type": "execute_result",
          "data": {
            "text/plain": [
              "2.049193338482967"
            ]
          },
          "metadata": {
            "tags": []
          },
          "execution_count": 9
        }
      ]
    },
    {
      "cell_type": "code",
      "metadata": {
        "colab": {
          "base_uri": "https://localhost:8080/"
        },
        "id": "txfieGMQmguM",
        "outputId": "84ccc239-9412-48c4-ac14-87fa2d3ca715"
      },
      "source": [
        "b2 = (2*0.5 - ((-2*0.5)**2 - 4*(0.5**2 - 12*0.2))**0.5 ) / 2\n",
        "b2"
      ],
      "execution_count": 11,
      "outputs": [
        {
          "output_type": "execute_result",
          "data": {
            "text/plain": [
              "-1.0491933384829668"
            ]
          },
          "metadata": {
            "tags": []
          },
          "execution_count": 11
        }
      ]
    },
    {
      "cell_type": "markdown",
      "metadata": {
        "id": "TEf4fIUxmyTQ"
      },
      "source": [
        "b2 < a - значит корня не существует\n",
        "\n",
        "Правая граница равна 2.049193338482967"
      ]
    },
    {
      "cell_type": "markdown",
      "metadata": {
        "id": "yYmq2Y64oPwF"
      },
      "source": [
        "#### Задание №3 \n",
        "Непрерывная случайная величина X распределена нормально и задана плотностью распределения\n",
        "f(x) = (1 / (4 * sqrt(2*pi))) * (exp(-((x+2)**2) / 32))\n",
        "Найдите:\n",
        "а). M(X)\n",
        "б). D(X)\n",
        "в). std(X) (среднее квадратичное отклонение)"
      ]
    },
    {
      "cell_type": "markdown",
      "metadata": {
        "id": "LzK-v5TIptoQ"
      },
      "source": [
        "а). M(X) = -2\n",
        "\n",
        "б). D(X) = 16\n",
        "\n",
        "в). std(X) = 4"
      ]
    },
    {
      "cell_type": "markdown",
      "metadata": {
        "id": "aTdCb5ttp7lA"
      },
      "source": [
        "#### Задание №4\n",
        "Рост взрослого населения города X имеет нормальное распределение.\n",
        "Причем, средний рост равен 174 см, а среднее квадратичное отклонение равно 8 см.\n",
        "Какова вероятность того, что случайным образом выбранный взрослый человек имеет рост:\n",
        "а). больше 182 см\n",
        "б). больше 190 см\n",
        "в). от 166 см до 190 см\n",
        "г). от 166 см до 182 см\n",
        "д). от 158 см до 190 см\n",
        "е). не выше 150 см или не ниже 190 см\n",
        "ё). не выше 150 см или не ниже 198 см\n",
        "ж). ниже 166 см."
      ]
    },
    {
      "cell_type": "code",
      "metadata": {
        "colab": {
          "base_uri": "https://localhost:8080/"
        },
        "id": "u4MXowSVqkSY",
        "outputId": "8b1a9fae-99b8-4ceb-b9d5-2788747dcb0b"
      },
      "source": [
        "# а). больше 182 см\n",
        "Z = (174- 182) / 8\n",
        "Z"
      ],
      "execution_count": 12,
      "outputs": [
        {
          "output_type": "execute_result",
          "data": {
            "text/plain": [
              "-1.0"
            ]
          },
          "metadata": {
            "tags": []
          },
          "execution_count": 12
        }
      ]
    },
    {
      "cell_type": "markdown",
      "metadata": {
        "id": "i44iv2kFsW9X"
      },
      "source": [
        "Z = - 1\n",
        "\n",
        "Вероятность того, что случайным образом выбранный взрослый человек имеет рост больше 182 см P < 15.87%"
      ]
    },
    {
      "cell_type": "code",
      "metadata": {
        "colab": {
          "base_uri": "https://localhost:8080/"
        },
        "id": "AoFtq8fist2B",
        "outputId": "61840cb7-094f-4daa-d9a8-88ee390fc3d4"
      },
      "source": [
        "# б). больше 190 см\n",
        "Z = (174- 190) / 8\n",
        "Z"
      ],
      "execution_count": 13,
      "outputs": [
        {
          "output_type": "execute_result",
          "data": {
            "text/plain": [
              "-2.0"
            ]
          },
          "metadata": {
            "tags": []
          },
          "execution_count": 13
        }
      ]
    },
    {
      "cell_type": "markdown",
      "metadata": {
        "id": "npAsarJus4f3"
      },
      "source": [
        "Z = - 2\n",
        "\n",
        "P < 2.28%"
      ]
    },
    {
      "cell_type": "code",
      "metadata": {
        "colab": {
          "base_uri": "https://localhost:8080/"
        },
        "id": "JK4Ue-kJtBY9",
        "outputId": "74e3165b-a4e5-4535-d5fd-c23c34f73aa3"
      },
      "source": [
        "# в). от 166 см до 190 см\n",
        "Z1 = (166 - 174) / 8\n",
        "Z1 "
      ],
      "execution_count": 15,
      "outputs": [
        {
          "output_type": "execute_result",
          "data": {
            "text/plain": [
              "-1.0"
            ]
          },
          "metadata": {
            "tags": []
          },
          "execution_count": 15
        }
      ]
    },
    {
      "cell_type": "code",
      "metadata": {
        "colab": {
          "base_uri": "https://localhost:8080/"
        },
        "id": "ONunjKMGtS3z",
        "outputId": "f4eae02b-4333-4f98-bf69-28f37c463d64"
      },
      "source": [
        "Z2 = (190 - 174) / 8\n",
        "Z2 "
      ],
      "execution_count": 16,
      "outputs": [
        {
          "output_type": "execute_result",
          "data": {
            "text/plain": [
              "2.0"
            ]
          },
          "metadata": {
            "tags": []
          },
          "execution_count": 16
        }
      ]
    },
    {
      "cell_type": "markdown",
      "metadata": {
        "id": "7Ethmo1ntpUp"
      },
      "source": [
        "Z1 = -1    P1 = 15.87%\n",
        "\n",
        "Z2 = 2     P2 = 97.72%\n",
        "\n",
        "P общее = P2 - P1 = 81.85%"
      ]
    },
    {
      "cell_type": "code",
      "metadata": {
        "colab": {
          "base_uri": "https://localhost:8080/"
        },
        "id": "hGKktsEytlQi",
        "outputId": "c97c211d-89fd-4425-9566-90ffacce2b59"
      },
      "source": [
        "# г). от 166 см до 182 см\n",
        "Z2 = (182 - 174) / 8\n",
        "Z2 "
      ],
      "execution_count": 17,
      "outputs": [
        {
          "output_type": "execute_result",
          "data": {
            "text/plain": [
              "1.0"
            ]
          },
          "metadata": {
            "tags": []
          },
          "execution_count": 17
        }
      ]
    },
    {
      "cell_type": "markdown",
      "metadata": {
        "id": "Zv1RAD-UvKQI"
      },
      "source": [
        "Z1 = -1    P1 = 15.87%\n",
        "\n",
        "Z2 = 1     P2 = 84.13%\n",
        "\n",
        "P общее = P2 - P1 = 68.26%"
      ]
    },
    {
      "cell_type": "code",
      "metadata": {
        "colab": {
          "base_uri": "https://localhost:8080/"
        },
        "id": "Cx7eTxM3uy6D",
        "outputId": "7a6863b4-1f36-4406-d945-0726ceef3fa7"
      },
      "source": [
        "# д). от 158 см до 190 см \n",
        "Z1 = (158 - 174) / 8\n",
        "Z1 "
      ],
      "execution_count": 20,
      "outputs": [
        {
          "output_type": "execute_result",
          "data": {
            "text/plain": [
              "-2.0"
            ]
          },
          "metadata": {
            "tags": []
          },
          "execution_count": 20
        }
      ]
    },
    {
      "cell_type": "markdown",
      "metadata": {
        "id": "q-lnlhkMvezz"
      },
      "source": [
        "Z1 = -2    P1 = 2.28%\n",
        "\n",
        "Z2 = 2     P2 = 97.72%\n",
        "\n",
        "P общее = P2 - P1 = 95.44%"
      ]
    },
    {
      "cell_type": "code",
      "metadata": {
        "colab": {
          "base_uri": "https://localhost:8080/"
        },
        "id": "paWOhT9ovFnS",
        "outputId": "31acf82b-f23c-4bf8-c016-29b1b0e06c90"
      },
      "source": [
        "# е). не выше 150 см или не ниже 190 см\n",
        "Z1 = (150 - 174) / 8\n",
        "Z1 "
      ],
      "execution_count": 21,
      "outputs": [
        {
          "output_type": "execute_result",
          "data": {
            "text/plain": [
              "-3.0"
            ]
          },
          "metadata": {
            "tags": []
          },
          "execution_count": 21
        }
      ]
    },
    {
      "cell_type": "code",
      "metadata": {
        "id": "N_sQQiq_v5L5"
      },
      "source": [
        "Z1 = -3 P1 = 0.14%\n",
        "\n",
        "Z2 = -2 P2 = 2.28%\n",
        "\n",
        "P общее = P2 + P1 = 2.42%\n"
      ],
      "execution_count": null,
      "outputs": []
    },
    {
      "cell_type": "code",
      "metadata": {
        "colab": {
          "base_uri": "https://localhost:8080/"
        },
        "id": "_YOczCdww9zw",
        "outputId": "58b2f76f-bb6f-499f-b837-0be911efd467"
      },
      "source": [
        "# ё). не выше 150 см или не ниже 198 см\n",
        "Z2 = (174 - 198) / 8\n",
        "Z2 "
      ],
      "execution_count": 22,
      "outputs": [
        {
          "output_type": "execute_result",
          "data": {
            "text/plain": [
              "-3.0"
            ]
          },
          "metadata": {
            "tags": []
          },
          "execution_count": 22
        }
      ]
    },
    {
      "cell_type": "markdown",
      "metadata": {
        "id": "ApZ5xi9Jw1kM"
      },
      "source": [
        "P общее = P2 + P1 = 0.28%"
      ]
    },
    {
      "cell_type": "code",
      "metadata": {
        "colab": {
          "base_uri": "https://localhost:8080/"
        },
        "id": "xoqQGHEvxUU5",
        "outputId": "d7b9b4da-953c-40e0-8db4-c11c16c91fdc"
      },
      "source": [
        "# ж). ниже 166 см.\n",
        "Z = (166 - 174) / 8\n",
        "Z"
      ],
      "execution_count": 24,
      "outputs": [
        {
          "output_type": "execute_result",
          "data": {
            "text/plain": [
              "-1.0"
            ]
          },
          "metadata": {
            "tags": []
          },
          "execution_count": 24
        }
      ]
    },
    {
      "cell_type": "markdown",
      "metadata": {
        "id": "tTnN8WcTxwXA"
      },
      "source": [
        "P < 15.87%"
      ]
    },
    {
      "cell_type": "markdown",
      "metadata": {
        "id": "Yw0yqGgcxxsh"
      },
      "source": [
        "#### Задание №5\n",
        "На сколько сигм (средних квадратичных отклонений) отклоняется рост человека, равный 190 см, от\n",
        "математического ожидания роста в популяции, в которой M(X) = 178 см и D(X) = 25 кв.см?"
      ]
    },
    {
      "cell_type": "code",
      "metadata": {
        "colab": {
          "base_uri": "https://localhost:8080/"
        },
        "id": "H8t_ly_9xhNw",
        "outputId": "8a45ab86-81a8-409f-b5b4-321d39f68bed"
      },
      "source": [
        "std_x = 25**0.5\n",
        "std_x"
      ],
      "execution_count": 26,
      "outputs": [
        {
          "output_type": "execute_result",
          "data": {
            "text/plain": [
              "5.0"
            ]
          },
          "metadata": {
            "tags": []
          },
          "execution_count": 26
        }
      ]
    },
    {
      "cell_type": "code",
      "metadata": {
        "colab": {
          "base_uri": "https://localhost:8080/"
        },
        "id": "ZHSyeLv1xvVf",
        "outputId": "8c0fa1dd-e0a3-4986-fdf6-9ca1c0ae1568"
      },
      "source": [
        "std_man = (190 - 178)/std_x\n",
        "std_man"
      ],
      "execution_count": 29,
      "outputs": [
        {
          "output_type": "execute_result",
          "data": {
            "text/plain": [
              "2.4"
            ]
          },
          "metadata": {
            "tags": []
          },
          "execution_count": 29
        }
      ]
    },
    {
      "cell_type": "code",
      "metadata": {
        "id": "fWMrkvGLyNXm"
      },
      "source": [
        ""
      ],
      "execution_count": null,
      "outputs": []
    }
  ]
}